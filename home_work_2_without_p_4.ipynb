{
 "cells": [
  {
   "cell_type": "markdown",
   "metadata": {},
   "source": [
    "# Продвинутое машинное обучение: ДЗ 2"
   ]
  },
  {
   "cell_type": "markdown",
   "metadata": {},
   "source": [
    "Студент: Бакулев Владимир Леонидович\n",
    "\n",
    "Группа: MADE-DS-22\n",
    "\n",
    "Почта: vlbakulev@gmail.com"
   ]
  },
  {
   "cell_type": "code",
   "execution_count": 1,
   "metadata": {},
   "outputs": [],
   "source": [
    "import json, pickle\n",
    "\n",
    "from collections import defaultdict\n",
    "\n",
    "import pandas as pd\n",
    "import numpy as np\n",
    "\n",
    "import matplotlib as mpl\n",
    "import matplotlib.pyplot as plt\n",
    "\n",
    "import seaborn as sns\n",
    "\n",
    "import warnings\n",
    "warnings.filterwarnings('ignore')"
   ]
  },
  {
   "cell_type": "markdown",
   "metadata": {},
   "source": [
    "### Задание 1\n",
    "\n",
    "Прочитайте и проанализируйте данные, выберите турниры, в которых есть данные о\n",
    "составах команд и повопросных результатах (поле \"mask\" в results.pkl). Для унификации\n",
    "предлагаю:\n",
    "- взять в тренировочный набор турниры с dateStart из 2019 года;\n",
    "- в тестовый — турниры с dateStart из 2020 года."
   ]
  },
  {
   "cell_type": "markdown",
   "metadata": {},
   "source": [
    "### Решение"
   ]
  },
  {
   "cell_type": "markdown",
   "metadata": {},
   "source": [
    "##### Загрузка исходных данных"
   ]
  },
  {
   "cell_type": "code",
   "execution_count": 2,
   "metadata": {},
   "outputs": [],
   "source": [
    "tournaments = pickle.load(open('chgk/tournaments.pkl', 'rb'))\n",
    "results = pickle.load(open('chgk/results.pkl', 'rb'))\n",
    "players = pickle.load(open('chgk/players.pkl', 'rb'))"
   ]
  },
  {
   "cell_type": "markdown",
   "metadata": {},
   "source": [
    "##### Предобработка tournaments:"
   ]
  },
  {
   "cell_type": "code",
   "execution_count": 3,
   "metadata": {},
   "outputs": [
    {
     "data": {
      "text/html": [
       "<div>\n",
       "<style scoped>\n",
       "    .dataframe tbody tr th:only-of-type {\n",
       "        vertical-align: middle;\n",
       "    }\n",
       "\n",
       "    .dataframe tbody tr th {\n",
       "        vertical-align: top;\n",
       "    }\n",
       "\n",
       "    .dataframe thead th {\n",
       "        text-align: right;\n",
       "    }\n",
       "</style>\n",
       "<table border=\"1\" class=\"dataframe\">\n",
       "  <thead>\n",
       "    <tr style=\"text-align: right;\">\n",
       "      <th></th>\n",
       "      <th>id</th>\n",
       "      <th>name</th>\n",
       "      <th>dateStart</th>\n",
       "      <th>dateEnd</th>\n",
       "      <th>type</th>\n",
       "      <th>season</th>\n",
       "      <th>orgcommittee</th>\n",
       "      <th>synchData</th>\n",
       "      <th>questionQty</th>\n",
       "    </tr>\n",
       "  </thead>\n",
       "  <tbody>\n",
       "    <tr>\n",
       "      <th>1</th>\n",
       "      <td>1</td>\n",
       "      <td>Чемпионат Южного Кавказа</td>\n",
       "      <td>2003-07-25T00:00:00+04:00</td>\n",
       "      <td>2003-07-27T00:00:00+04:00</td>\n",
       "      <td>{'id': 2, 'name': 'Обычный'}</td>\n",
       "      <td>/seasons/1</td>\n",
       "      <td>[]</td>\n",
       "      <td>None</td>\n",
       "      <td>None</td>\n",
       "    </tr>\n",
       "    <tr>\n",
       "      <th>2</th>\n",
       "      <td>2</td>\n",
       "      <td>Летние зори</td>\n",
       "      <td>2003-08-09T00:00:00+04:00</td>\n",
       "      <td>2003-08-09T00:00:00+04:00</td>\n",
       "      <td>{'id': 2, 'name': 'Обычный'}</td>\n",
       "      <td>/seasons/1</td>\n",
       "      <td>[]</td>\n",
       "      <td>None</td>\n",
       "      <td>None</td>\n",
       "    </tr>\n",
       "  </tbody>\n",
       "</table>\n",
       "</div>"
      ],
      "text/plain": [
       "  id                      name                  dateStart  \\\n",
       "1  1  Чемпионат Южного Кавказа  2003-07-25T00:00:00+04:00   \n",
       "2  2               Летние зори  2003-08-09T00:00:00+04:00   \n",
       "\n",
       "                     dateEnd                          type      season  \\\n",
       "1  2003-07-27T00:00:00+04:00  {'id': 2, 'name': 'Обычный'}  /seasons/1   \n",
       "2  2003-08-09T00:00:00+04:00  {'id': 2, 'name': 'Обычный'}  /seasons/1   \n",
       "\n",
       "  orgcommittee synchData questionQty  \n",
       "1           []      None        None  \n",
       "2           []      None        None  "
      ]
     },
     "execution_count": 3,
     "metadata": {},
     "output_type": "execute_result"
    }
   ],
   "source": [
    "init_tour_df = pd.DataFrame(tournaments).transpose()\n",
    "init_tour_df.head(2)"
   ]
  },
  {
   "cell_type": "code",
   "execution_count": 4,
   "metadata": {},
   "outputs": [
    {
     "data": {
      "text/html": [
       "<div>\n",
       "<style scoped>\n",
       "    .dataframe tbody tr th:only-of-type {\n",
       "        vertical-align: middle;\n",
       "    }\n",
       "\n",
       "    .dataframe tbody tr th {\n",
       "        vertical-align: top;\n",
       "    }\n",
       "\n",
       "    .dataframe thead th {\n",
       "        text-align: right;\n",
       "    }\n",
       "</style>\n",
       "<table border=\"1\" class=\"dataframe\">\n",
       "  <thead>\n",
       "    <tr style=\"text-align: right;\">\n",
       "      <th></th>\n",
       "      <th>id_tour</th>\n",
       "      <th>name_tour</th>\n",
       "      <th>year</th>\n",
       "      <th>count_question</th>\n",
       "    </tr>\n",
       "  </thead>\n",
       "  <tbody>\n",
       "    <tr>\n",
       "      <th>22</th>\n",
       "      <td>22</td>\n",
       "      <td>Чемпионат России</td>\n",
       "      <td>2004</td>\n",
       "      <td>90</td>\n",
       "    </tr>\n",
       "    <tr>\n",
       "      <th>76</th>\n",
       "      <td>76</td>\n",
       "      <td>Чемпионат России</td>\n",
       "      <td>2005</td>\n",
       "      <td>90</td>\n",
       "    </tr>\n",
       "  </tbody>\n",
       "</table>\n",
       "</div>"
      ],
      "text/plain": [
       "   id_tour         name_tour  year  count_question\n",
       "22      22  Чемпионат России  2004              90\n",
       "76      76  Чемпионат России  2005              90"
      ]
     },
     "execution_count": 4,
     "metadata": {},
     "output_type": "execute_result"
    }
   ],
   "source": [
    "tour_df = init_tour_df.copy()\n",
    "\n",
    "tour_df = tour_df.dropna(subset=['questionQty'])\n",
    "\n",
    "tour_df['year'] = tour_df['dateStart'].apply(lambda x: int(x[:4]))\n",
    "tour_df['count_question'] = tour_df['questionQty'].apply(lambda x: sum(x.values()))\n",
    "\n",
    "tour_df = tour_df[['id', 'name', 'year', 'count_question']]\n",
    "tour_df = tour_df.rename(columns={'id': 'id_tour', 'name': 'name_tour'})\n",
    "tour_df.head(2)"
   ]
  },
  {
   "cell_type": "markdown",
   "metadata": {},
   "source": [
    "##### Предобработка results:"
   ]
  },
  {
   "cell_type": "code",
   "execution_count": 5,
   "metadata": {},
   "outputs": [
    {
     "data": {
      "text/html": [
       "<div>\n",
       "<style scoped>\n",
       "    .dataframe tbody tr th:only-of-type {\n",
       "        vertical-align: middle;\n",
       "    }\n",
       "\n",
       "    .dataframe tbody tr th {\n",
       "        vertical-align: top;\n",
       "    }\n",
       "\n",
       "    .dataframe thead th {\n",
       "        text-align: right;\n",
       "    }\n",
       "</style>\n",
       "<table border=\"1\" class=\"dataframe\">\n",
       "  <thead>\n",
       "    <tr style=\"text-align: right;\">\n",
       "      <th></th>\n",
       "      <th>id_tour</th>\n",
       "      <th>id_team</th>\n",
       "      <th>id_player</th>\n",
       "      <th>mask</th>\n",
       "      <th>count_all_answer</th>\n",
       "      <th>count_true_answer</th>\n",
       "    </tr>\n",
       "  </thead>\n",
       "  <tbody>\n",
       "    <tr>\n",
       "      <th>0</th>\n",
       "      <td>22</td>\n",
       "      <td>1</td>\n",
       "      <td>1560</td>\n",
       "      <td>[0, 1, 1, 1, 0, 1, 1, 1, 0, 1, 1, 0, 1, 1, 1, ...</td>\n",
       "      <td>90</td>\n",
       "      <td>67</td>\n",
       "    </tr>\n",
       "    <tr>\n",
       "      <th>1</th>\n",
       "      <td>22</td>\n",
       "      <td>1</td>\n",
       "      <td>2935</td>\n",
       "      <td>[0, 1, 1, 1, 0, 1, 1, 1, 0, 1, 1, 0, 1, 1, 1, ...</td>\n",
       "      <td>90</td>\n",
       "      <td>67</td>\n",
       "    </tr>\n",
       "  </tbody>\n",
       "</table>\n",
       "</div>"
      ],
      "text/plain": [
       "   id_tour  id_team  id_player  \\\n",
       "0       22        1       1560   \n",
       "1       22        1       2935   \n",
       "\n",
       "                                                mask  count_all_answer  \\\n",
       "0  [0, 1, 1, 1, 0, 1, 1, 1, 0, 1, 1, 0, 1, 1, 1, ...                90   \n",
       "1  [0, 1, 1, 1, 0, 1, 1, 1, 0, 1, 1, 0, 1, 1, 1, ...                90   \n",
       "\n",
       "   count_true_answer  \n",
       "0                 67  \n",
       "1                 67  "
      ]
     },
     "execution_count": 5,
     "metadata": {},
     "output_type": "execute_result"
    }
   ],
   "source": [
    "res_dict = defaultdict(list)\n",
    "\n",
    "for _id_tour, _list_team in results.items():\n",
    "    for _team in _list_team:\n",
    "        if not _team.get('mask'):\n",
    "            continue\n",
    "        current_mask = list(_team['mask'])\n",
    "        current_mask = [0 if x in ['0', 'X', '?'] else int(x) for x in current_mask]\n",
    "        count_all_answer = len(current_mask)\n",
    "        count_true_answer = sum(current_mask)\n",
    "        for _player in _team['teamMembers']:\n",
    "            res_dict['id_tour'].append(_id_tour)\n",
    "            res_dict['id_team'].append(_team['team']['id'])\n",
    "            res_dict['id_player'].append(_player['player']['id'])\n",
    "            res_dict['mask'].append(current_mask)\n",
    "            res_dict['count_all_answer'].append(count_all_answer)\n",
    "            res_dict['count_true_answer'].append(count_true_answer)\n",
    "            \n",
    "res_df = pd.DataFrame(res_dict)\n",
    "res_df.head(2)"
   ]
  },
  {
   "cell_type": "markdown",
   "metadata": {},
   "source": [
    "##### Предобработка players:"
   ]
  },
  {
   "cell_type": "code",
   "execution_count": 6,
   "metadata": {},
   "outputs": [],
   "source": [
    "init_players_df = pd.DataFrame(players).transpose()\n",
    "init_players_df = init_players_df.fillna('')"
   ]
  },
  {
   "cell_type": "code",
   "execution_count": 7,
   "metadata": {},
   "outputs": [],
   "source": [
    "dict_player = defaultdict(list)\n",
    "\n",
    "for idx in init_players_df.index.tolist():\n",
    "    full_name = ' '.join([\n",
    "        init_players_df.loc[idx, 'surname'],\n",
    "        init_players_df.loc[idx, 'name'], \n",
    "        init_players_df.loc[idx, 'patronymic'],\n",
    "    ])\n",
    "    dict_player['id_player'].append(init_players_df.loc[idx, 'id'])\n",
    "    dict_player['name_player'].append(full_name)\n",
    "    \n",
    "player_df = pd.DataFrame(dict_player)\n",
    "player_df.to_csv('player_df.csv', index=False)"
   ]
  },
  {
   "cell_type": "markdown",
   "metadata": {},
   "source": [
    "##### Формирование train и test"
   ]
  },
  {
   "cell_type": "code",
   "execution_count": 8,
   "metadata": {},
   "outputs": [
    {
     "name": "stdout",
     "output_type": "stream",
     "text": [
      "Общее количество турниров в 2019 году: 687\n",
      "Общее количество турниров в 2020 году: 418\n"
     ]
    }
   ],
   "source": [
    "train_tour_df = tour_df[tour_df['year'] == 2019]\n",
    "test_tour_df = tour_df[tour_df['year'] == 2020]\n",
    "\n",
    "print('Общее количество турниров в 2019 году:', train_tour_df.shape[0])\n",
    "print('Общее количество турниров в 2020 году:', test_tour_df.shape[0])"
   ]
  },
  {
   "cell_type": "code",
   "execution_count": 9,
   "metadata": {},
   "outputs": [
    {
     "name": "stdout",
     "output_type": "stream",
     "text": [
      "Количество турниров в тренировочном датасете: 675\n",
      "Количество уникальных команд в тренировочном датасете: 11420\n",
      "Количество уникальных игроков в тренировочном датасете: 57429\n",
      "Количество вопросов в тренировочном датасете: 33381\n"
     ]
    },
    {
     "data": {
      "text/html": [
       "<div>\n",
       "<style scoped>\n",
       "    .dataframe tbody tr th:only-of-type {\n",
       "        vertical-align: middle;\n",
       "    }\n",
       "\n",
       "    .dataframe tbody tr th {\n",
       "        vertical-align: top;\n",
       "    }\n",
       "\n",
       "    .dataframe thead th {\n",
       "        text-align: right;\n",
       "    }\n",
       "</style>\n",
       "<table border=\"1\" class=\"dataframe\">\n",
       "  <thead>\n",
       "    <tr style=\"text-align: right;\">\n",
       "      <th></th>\n",
       "      <th>id_tour</th>\n",
       "      <th>name_tour</th>\n",
       "      <th>year</th>\n",
       "      <th>count_question</th>\n",
       "      <th>id_team</th>\n",
       "      <th>id_player</th>\n",
       "      <th>mask</th>\n",
       "      <th>count_all_answer</th>\n",
       "      <th>count_true_answer</th>\n",
       "    </tr>\n",
       "  </thead>\n",
       "  <tbody>\n",
       "    <tr>\n",
       "      <th>0</th>\n",
       "      <td>4772</td>\n",
       "      <td>Синхрон северных стран. Зимний выпуск</td>\n",
       "      <td>2019</td>\n",
       "      <td>36</td>\n",
       "      <td>45556</td>\n",
       "      <td>6212</td>\n",
       "      <td>[1, 1, 1, 1, 1, 1, 1, 1, 1, 0, 1, 1, 1, 1, 1, ...</td>\n",
       "      <td>36</td>\n",
       "      <td>28</td>\n",
       "    </tr>\n",
       "    <tr>\n",
       "      <th>1</th>\n",
       "      <td>4772</td>\n",
       "      <td>Синхрон северных стран. Зимний выпуск</td>\n",
       "      <td>2019</td>\n",
       "      <td>36</td>\n",
       "      <td>45556</td>\n",
       "      <td>18332</td>\n",
       "      <td>[1, 1, 1, 1, 1, 1, 1, 1, 1, 0, 1, 1, 1, 1, 1, ...</td>\n",
       "      <td>36</td>\n",
       "      <td>28</td>\n",
       "    </tr>\n",
       "  </tbody>\n",
       "</table>\n",
       "</div>"
      ],
      "text/plain": [
       "  id_tour                              name_tour  year  count_question  \\\n",
       "0    4772  Синхрон северных стран. Зимний выпуск  2019              36   \n",
       "1    4772  Синхрон северных стран. Зимний выпуск  2019              36   \n",
       "\n",
       "   id_team  id_player                                               mask  \\\n",
       "0    45556       6212  [1, 1, 1, 1, 1, 1, 1, 1, 1, 0, 1, 1, 1, 1, 1, ...   \n",
       "1    45556      18332  [1, 1, 1, 1, 1, 1, 1, 1, 1, 0, 1, 1, 1, 1, 1, ...   \n",
       "\n",
       "   count_all_answer  count_true_answer  \n",
       "0                36                 28  \n",
       "1                36                 28  "
      ]
     },
     "execution_count": 9,
     "metadata": {},
     "output_type": "execute_result"
    }
   ],
   "source": [
    "init_train_df = pd.merge(train_tour_df, res_df, how='inner', on='id_tour')\n",
    "init_train_df = init_train_df[init_train_df['count_question'] == init_train_df['count_all_answer']]\n",
    "\n",
    "print('Количество турниров в тренировочном датасете:', len(init_train_df['id_tour'].unique()))\n",
    "print('Количество уникальных команд в тренировочном датасете:', len(init_train_df['id_team'].unique()))\n",
    "print('Количество уникальных игроков в тренировочном датасете:', len(init_train_df['id_player'].unique()))\n",
    "print('Количество вопросов в тренировочном датасете:', \n",
    "      int(init_train_df.groupby(['id_tour'])['id_tour', 'count_question'].agg('mean').sum()))\n",
    "\n",
    "init_train_df.head(2)"
   ]
  },
  {
   "cell_type": "code",
   "execution_count": 10,
   "metadata": {},
   "outputs": [
    {
     "name": "stdout",
     "output_type": "stream",
     "text": [
      "Количество турниров в тестовом датасете: 172\n",
      "Количество уникальных команд в тестовом датасете: 5857\n",
      "Количество уникальных игроков в тестовом датасете: 28996\n",
      "Количество вопросов в тестовом датасете: 7803\n"
     ]
    },
    {
     "data": {
      "text/html": [
       "<div>\n",
       "<style scoped>\n",
       "    .dataframe tbody tr th:only-of-type {\n",
       "        vertical-align: middle;\n",
       "    }\n",
       "\n",
       "    .dataframe tbody tr th {\n",
       "        vertical-align: top;\n",
       "    }\n",
       "\n",
       "    .dataframe thead th {\n",
       "        text-align: right;\n",
       "    }\n",
       "</style>\n",
       "<table border=\"1\" class=\"dataframe\">\n",
       "  <thead>\n",
       "    <tr style=\"text-align: right;\">\n",
       "      <th></th>\n",
       "      <th>id_tour</th>\n",
       "      <th>name_tour</th>\n",
       "      <th>year</th>\n",
       "      <th>count_question</th>\n",
       "      <th>id_team</th>\n",
       "      <th>id_player</th>\n",
       "      <th>mask</th>\n",
       "      <th>count_all_answer</th>\n",
       "      <th>count_true_answer</th>\n",
       "    </tr>\n",
       "  </thead>\n",
       "  <tbody>\n",
       "    <tr>\n",
       "      <th>0</th>\n",
       "      <td>4957</td>\n",
       "      <td>Синхрон Биркиркары</td>\n",
       "      <td>2020</td>\n",
       "      <td>39</td>\n",
       "      <td>49804</td>\n",
       "      <td>30152</td>\n",
       "      <td>[1, 1, 1, 1, 1, 1, 0, 1, 1, 1, 1, 1, 1, 1, 0, ...</td>\n",
       "      <td>39</td>\n",
       "      <td>26</td>\n",
       "    </tr>\n",
       "    <tr>\n",
       "      <th>1</th>\n",
       "      <td>4957</td>\n",
       "      <td>Синхрон Биркиркары</td>\n",
       "      <td>2020</td>\n",
       "      <td>39</td>\n",
       "      <td>49804</td>\n",
       "      <td>30270</td>\n",
       "      <td>[1, 1, 1, 1, 1, 1, 0, 1, 1, 1, 1, 1, 1, 1, 0, ...</td>\n",
       "      <td>39</td>\n",
       "      <td>26</td>\n",
       "    </tr>\n",
       "  </tbody>\n",
       "</table>\n",
       "</div>"
      ],
      "text/plain": [
       "  id_tour           name_tour  year  count_question  id_team  id_player  \\\n",
       "0    4957  Синхрон Биркиркары  2020              39    49804      30152   \n",
       "1    4957  Синхрон Биркиркары  2020              39    49804      30270   \n",
       "\n",
       "                                                mask  count_all_answer  \\\n",
       "0  [1, 1, 1, 1, 1, 1, 0, 1, 1, 1, 1, 1, 1, 1, 0, ...                39   \n",
       "1  [1, 1, 1, 1, 1, 1, 0, 1, 1, 1, 1, 1, 1, 1, 0, ...                39   \n",
       "\n",
       "   count_true_answer  \n",
       "0                 26  \n",
       "1                 26  "
      ]
     },
     "execution_count": 10,
     "metadata": {},
     "output_type": "execute_result"
    }
   ],
   "source": [
    "init_test_df = pd.merge(test_tour_df, res_df, how='inner', on='id_tour')\n",
    "init_test_df = init_test_df[init_test_df['count_question'] == init_test_df['count_all_answer']]\n",
    "\n",
    "print('Количество турниров в тестовом датасете:', len(init_test_df['id_tour'].unique()))\n",
    "print('Количество уникальных команд в тестовом датасете:', len(init_test_df['id_team'].unique()))\n",
    "print('Количество уникальных игроков в тестовом датасете:', len(init_test_df['id_player'].unique()))\n",
    "print('Количество вопросов в тестовом датасете:', \n",
    "      int(init_test_df.groupby(['id_tour'])['id_tour', 'count_question'].agg('mean').sum()))\n",
    "\n",
    "init_test_df.head(2)"
   ]
  },
  {
   "cell_type": "code",
   "execution_count": 11,
   "metadata": {},
   "outputs": [],
   "source": [
    "init_test_df[['id_tour', 'id_team', 'id_player']].to_csv('test_df.csv', index=False)"
   ]
  },
  {
   "cell_type": "markdown",
   "metadata": {},
   "source": [
    "##### Анализ train"
   ]
  },
  {
   "cell_type": "code",
   "execution_count": 12,
   "metadata": {},
   "outputs": [
    {
     "data": {
      "text/html": [
       "<div>\n",
       "<style scoped>\n",
       "    .dataframe tbody tr th:only-of-type {\n",
       "        vertical-align: middle;\n",
       "    }\n",
       "\n",
       "    .dataframe tbody tr th {\n",
       "        vertical-align: top;\n",
       "    }\n",
       "\n",
       "    .dataframe thead th {\n",
       "        text-align: right;\n",
       "    }\n",
       "</style>\n",
       "<table border=\"1\" class=\"dataframe\">\n",
       "  <thead>\n",
       "    <tr style=\"text-align: right;\">\n",
       "      <th></th>\n",
       "      <th>id_player</th>\n",
       "      <th>count_tour_per_player</th>\n",
       "      <th>count_all_answer_per_player</th>\n",
       "      <th>count_true_answer_per_player</th>\n",
       "      <th>percent_true_answer</th>\n",
       "    </tr>\n",
       "  </thead>\n",
       "  <tbody>\n",
       "    <tr>\n",
       "      <th>0</th>\n",
       "      <td>15</td>\n",
       "      <td>13</td>\n",
       "      <td>481</td>\n",
       "      <td>167</td>\n",
       "      <td>34.719335</td>\n",
       "    </tr>\n",
       "    <tr>\n",
       "      <th>1</th>\n",
       "      <td>16</td>\n",
       "      <td>3</td>\n",
       "      <td>198</td>\n",
       "      <td>104</td>\n",
       "      <td>52.525253</td>\n",
       "    </tr>\n",
       "  </tbody>\n",
       "</table>\n",
       "</div>"
      ],
      "text/plain": [
       "   id_player  count_tour_per_player  count_all_answer_per_player  \\\n",
       "0         15                     13                          481   \n",
       "1         16                      3                          198   \n",
       "\n",
       "   count_true_answer_per_player  percent_true_answer  \n",
       "0                           167            34.719335  \n",
       "1                           104            52.525253  "
      ]
     },
     "execution_count": 12,
     "metadata": {},
     "output_type": "execute_result"
    }
   ],
   "source": [
    "count_tour_per_player = init_train_df.groupby('id_player')[\n",
    "    'id_player', 'count_all_answer', 'count_true_answer'].agg(['count', 'sum'])\n",
    "tour_per_player_df = pd.DataFrame.from_dict({\n",
    "    'id_player' : count_tour_per_player.index.tolist(),\n",
    "    'count_tour_per_player': count_tour_per_player['id_player']['count'].tolist(),\n",
    "    'count_all_answer_per_player': count_tour_per_player['count_all_answer']['sum'].tolist(),\n",
    "    'count_true_answer_per_player': count_tour_per_player['count_true_answer']['sum'].tolist(),\n",
    "})\n",
    "tour_per_player_df['percent_true_answer'] = tour_per_player_df['count_true_answer_per_player'] / \\\n",
    "tour_per_player_df['count_all_answer_per_player'] *100\n",
    "\n",
    "tour_per_player_df.head(2)"
   ]
  },
  {
   "cell_type": "code",
   "execution_count": 13,
   "metadata": {},
   "outputs": [],
   "source": [
    "def print_hist(data, data_name): \n",
    "    \n",
    "    data_info = ''\n",
    "    data_info = ' '.join([data_info, '(медиана:', str(round(data.median(), 3)), ','])\n",
    "    data_info = ' '.join([data_info, 'максимум:', str(round(data.max(), 3)), ','])\n",
    "    data_info = ' '.join([data_info, '25-процентиль:', str(round(np.percentile(data, 25), 3)), ','])\n",
    "    data_info = ''.join([data_info, ' 75-процентиль: ', str(round(np.percentile(data, 75), 3)), ')'])\n",
    "    \n",
    "    f, (ax_box, ax_hist) = plt.subplots(2, sharex=True, gridspec_kw={\"height_ratios\": (.15, .85)}, \n",
    "                                        figsize=(12, 5))\n",
    "\n",
    "    sns.boxplot(data, ax=ax_box)\n",
    "    sns.distplot(data, kde=False, ax=ax_hist)\n",
    "    ax_box.set(xlabel='')\n",
    "    \n",
    "    ax_box.grid()\n",
    "    ax_hist.grid()\n",
    "    \n",
    "    f.suptitle('\\n'.join([data_name, data_info]), fontsize=14)\n",
    "    plt.show()"
   ]
  },
  {
   "cell_type": "code",
   "execution_count": 14,
   "metadata": {},
   "outputs": [
    {
     "data": {
      "image/png": "[encoded data removed]",
      "text/plain": [
       "<Figure size 864x360 with 2 Axes>"
      ]
     },
     "metadata": {
      "needs_background": "light"
     },
     "output_type": "display_data"
    }
   ],
   "source": [
    "print_hist(tour_per_player_df[\"count_tour_per_player\"], data_name='Количество турниров у игрока')"
   ]
  },
  {
   "cell_type": "code",
   "execution_count": 15,
   "metadata": {},
   "outputs": [
    {
     "data": {
      "image/png": "[encoded data removed]",
      "text/plain": [
       "<Figure size 864x360 with 2 Axes>"
      ]
     },
     "metadata": {
      "needs_background": "light"
     },
     "output_type": "display_data"
    }
   ],
   "source": [
    "print_hist(tour_per_player_df['count_all_answer_per_player'], data_name='Количество всех ответов у игрока')"
   ]
  },
  {
   "cell_type": "code",
   "execution_count": 16,
   "metadata": {},
   "outputs": [
    {
     "data": {
      "image/png": "[encoded data removed]",
      "text/plain": [
       "<Figure size 864x360 with 2 Axes>"
      ]
     },
     "metadata": {
      "needs_background": "light"
     },
     "output_type": "display_data"
    }
   ],
   "source": [
    "print_hist(tour_per_player_df['count_true_answer_per_player'], data_name='Количество правильных ответов у игрока')"
   ]
  },
  {
   "cell_type": "code",
   "execution_count": 17,
   "metadata": {},
   "outputs": [
    {
     "data": {
      "image/png": "[encoded data removed]",
      "text/plain": [
       "<Figure size 864x360 with 2 Axes>"
      ]
     },
     "metadata": {
      "needs_background": "light"
     },
     "output_type": "display_data"
    }
   ],
   "source": [
    "print_hist(tour_per_player_df['percent_true_answer'], data_name='Процент правильных ответов у игрока')"
   ]
  },
  {
   "cell_type": "code",
   "execution_count": 18,
   "metadata": {},
   "outputs": [
    {
     "data": {
      "image/png": "[encoded data removed]",
      "text/plain": [
       "<Figure size 864x360 with 2 Axes>"
      ]
     },
     "metadata": {
      "needs_background": "light"
     },
     "output_type": "display_data"
    }
   ],
   "source": [
    "print_hist(\n",
    "    tour_per_player_df[tour_per_player_df['count_tour_per_player'] > 10. ]['percent_true_answer'], \n",
    "    data_name='Процент правильных ответов у игроков, которые участвовали в более десяти играх'\n",
    ")"
   ]
  },
  {
   "cell_type": "code",
   "execution_count": 19,
   "metadata": {},
   "outputs": [
    {
     "data": {
      "image/png": "[encoded data removed]",
      "text/plain": [
       "<Figure size 720x360 with 1 Axes>"
      ]
     },
     "metadata": {
      "needs_background": "light"
     },
     "output_type": "display_data"
    }
   ],
   "source": [
    "array_count_tour_per_player = list(range(222))\n",
    "array_percenr_true_answer = []\n",
    "for i in array_count_tour_per_player:\n",
    "    array_percenr_true_answer.append(tour_per_player_df[\n",
    "        tour_per_player_df['count_tour_per_player'] > i]['percent_true_answer'].median())\n",
    "\n",
    "fig, ax = plt.subplots(figsize=(10, 5))\n",
    "ax.plot(array_count_tour_per_player, array_percenr_true_answer, 'k')\n",
    "ax.set_xlabel('Количество сыгранных игр одним игроком за 2019')\n",
    "ax.set_ylabel('Медианное значение процента правильных ответов')\n",
    "ax.grid()"
   ]
  },
  {
   "cell_type": "code",
   "execution_count": 20,
   "metadata": {},
   "outputs": [],
   "source": [
    "add_train_df = init_train_df.copy()\n",
    "add_train_df = pd.merge(add_train_df, tour_per_player_df, how='inner', on='id_player')"
   ]
  },
  {
   "cell_type": "code",
   "execution_count": 22,
   "metadata": {},
   "outputs": [],
   "source": [
    "train_dict = defaultdict(list)\n",
    "\n",
    "for idx in add_train_df.index.tolist():\n",
    "    id_tour = add_train_df.loc[idx, 'id_tour']\n",
    "    for i, m in enumerate(add_train_df.loc[idx, 'mask']):\n",
    "        id_question = '_'.join([str(id_tour), str(i)])\n",
    "        train_dict['id_tour'].append(id_tour)\n",
    "        train_dict['id_team'].append(add_train_df.loc[idx, 'id_team'])\n",
    "        train_dict['id_player'].append(add_train_df.loc[idx, 'id_player'])\n",
    "        train_dict['id_question'].append(id_question)\n",
    "        train_dict['answer'].append(m)"
   ]
  },
  {
   "cell_type": "code",
   "execution_count": 23,
   "metadata": {},
   "outputs": [
    {
     "data": {
      "text/html": [
       "<div>\n",
       "<style scoped>\n",
       "    .dataframe tbody tr th:only-of-type {\n",
       "        vertical-align: middle;\n",
       "    }\n",
       "\n",
       "    .dataframe tbody tr th {\n",
       "        vertical-align: top;\n",
       "    }\n",
       "\n",
       "    .dataframe thead th {\n",
       "        text-align: right;\n",
       "    }\n",
       "</style>\n",
       "<table border=\"1\" class=\"dataframe\">\n",
       "  <thead>\n",
       "    <tr style=\"text-align: right;\">\n",
       "      <th></th>\n",
       "      <th>id_tour</th>\n",
       "      <th>id_team</th>\n",
       "      <th>id_player</th>\n",
       "      <th>id_question</th>\n",
       "      <th>answer</th>\n",
       "    </tr>\n",
       "  </thead>\n",
       "  <tbody>\n",
       "    <tr>\n",
       "      <th>0</th>\n",
       "      <td>4772</td>\n",
       "      <td>45556</td>\n",
       "      <td>6212</td>\n",
       "      <td>4772_0</td>\n",
       "      <td>1</td>\n",
       "    </tr>\n",
       "    <tr>\n",
       "      <th>1</th>\n",
       "      <td>4772</td>\n",
       "      <td>45556</td>\n",
       "      <td>6212</td>\n",
       "      <td>4772_1</td>\n",
       "      <td>1</td>\n",
       "    </tr>\n",
       "  </tbody>\n",
       "</table>\n",
       "</div>"
      ],
      "text/plain": [
       "   id_tour  id_team  id_player id_question  answer\n",
       "0     4772    45556       6212      4772_0       1\n",
       "1     4772    45556       6212      4772_1       1"
      ]
     },
     "execution_count": 23,
     "metadata": {},
     "output_type": "execute_result"
    }
   ],
   "source": [
    "train_df = pd.DataFrame(train_dict)\n",
    "train_df.head(2)"
   ]
  },
  {
   "cell_type": "code",
   "execution_count": 24,
   "metadata": {},
   "outputs": [
    {
     "data": {
      "text/plain": [
       "(17838582, 5)"
      ]
     },
     "execution_count": 24,
     "metadata": {},
     "output_type": "execute_result"
    }
   ],
   "source": [
    "train_df.to_csv('prepare_train_df.csv', index=False)\n",
    "train_df.shape"
   ]
  },
  {
   "cell_type": "code",
   "execution_count": 25,
   "metadata": {},
   "outputs": [],
   "source": [
    "count_question = train_df.groupby('id_question')['id_team', 'answer'].agg(['count', 'sum'])\n",
    "question_df = pd.DataFrame.from_dict({\n",
    "    'id_question': count_question.index.tolist(),\n",
    "    'count_answer': count_question['answer']['count'].tolist(),\n",
    "    'count_true_answer': count_question['answer']['sum'].tolist(),\n",
    "})\n",
    "question_df['persent_true_answer'] = 100. * question_df['count_true_answer'] / question_df['count_answer']"
   ]
  },
  {
   "cell_type": "code",
   "execution_count": 26,
   "metadata": {},
   "outputs": [
    {
     "data": {
      "image/png": "[encoded data removed]",
      "text/plain": [
       "<Figure size 864x360 with 2 Axes>"
      ]
     },
     "metadata": {
      "needs_background": "light"
     },
     "output_type": "display_data"
    }
   ],
   "source": [
    "print_hist(question_df['persent_true_answer'], data_name='Процент правильных ответов у вопроса')"
   ]
  },
  {
   "cell_type": "markdown",
   "metadata": {},
   "source": [
    "Анализ исходных данных показал вполне закономерные результаты:\n",
    "- в игре больше сложных вопросов, чем легких (под сложностью принимаем процент верных ответов). При этом есть вопросы, на которые ответили все, и те, на которые не ответил никто\n",
    "- игроки, которые чаще принимают участие в турнирах, имеют больший процент правильных отетов"
   ]
  },
  {
   "cell_type": "markdown",
   "metadata": {},
   "source": [
    "### Задание 2\n",
    "\n",
    "Постройте baseline-модель на основе линейной или логистической регрессии, которая будет обучать рейтинг-лист игроков. Замечания и подсказки:\n",
    "- повопросные результаты — это фактически результаты броска монетки, и их предсказание скорее всего имеет отношение к бинарной классификации;\n",
    "- в разных турнирах вопросы совсем разного уровня сложности, поэтому модель должна это учитывать; скорее всего, модель должна будет явно обучать не только силу каждого игрока, но и сложность каждого вопроса;\n",
    "- для baseline-модели можно забыть о командах и считать, что повопросные результаты команды просто относятся к каждому из её игроков."
   ]
  },
  {
   "cell_type": "code",
   "execution_count": 27,
   "metadata": {},
   "outputs": [
    {
     "name": "stdout",
     "output_type": "stream",
     "text": [
      "Размер исходного датасета: 17838582\n"
     ]
    }
   ],
   "source": [
    "train_df = pd.read_csv('prepare_train_df.csv')\n",
    "player_df = pd.read_csv('player_df.csv')\n",
    "\n",
    "print('Размер исходного датасета:', train_df.shape[0])"
   ]
  },
  {
   "cell_type": "markdown",
   "metadata": {},
   "source": [
    "### Решение"
   ]
  },
  {
   "cell_type": "markdown",
   "metadata": {},
   "source": [
    "Baseline-модель основана на логистической регресии. ID игрока и ID вопроса - это категориальные переменные, поэтому их преобразовываем в логические переменные и записываем данные в разреженную матрице"
   ]
  },
  {
   "cell_type": "code",
   "execution_count": 28,
   "metadata": {},
   "outputs": [],
   "source": [
    "list_player_in_train = train_df['id_player'].unique().tolist()\n",
    "dict_player_in_train = {\n",
    "    _player: i for i, _player in enumerate(list_player_in_train)\n",
    "}\n",
    "\n",
    "list_question_in_train = train_df['id_question'].unique().tolist()\n",
    "dict_question_in_train = {\n",
    "    _question: i for i, _question in enumerate(list_question_in_train)\n",
    "}"
   ]
  },
  {
   "cell_type": "code",
   "execution_count": 29,
   "metadata": {},
   "outputs": [],
   "source": [
    "from scipy import sparse\n",
    "\n",
    "def transform_to_sparse(input_df, dict_player, dict_question):\n",
    "    no_player = [dict_player[p] for p in train_df['id_player'].tolist()]\n",
    "    no_question = [dict_question[q] for q in train_df['id_question'].tolist()]\n",
    "    \n",
    "    X_train = sparse.lil_matrix((len(dict_player) + len(dict_question), input_df.shape[0]))\n",
    "    X_train[no_player, list(range(input_df.shape[0]))] = 1\n",
    "\n",
    "    X_train[[no_q + len(dict_player) for no_q in no_question], list(range(input_df.shape[0]))] = 1\n",
    "    return X_train.transpose()"
   ]
  },
  {
   "cell_type": "code",
   "execution_count": 30,
   "metadata": {},
   "outputs": [],
   "source": [
    "X_train = transform_to_sparse(train_df, dict_player_in_train, dict_question_in_train)\n",
    "y_train = train_df['answer']"
   ]
  },
  {
   "cell_type": "markdown",
   "metadata": {},
   "source": [
    "Обучение логистической регресии"
   ]
  },
  {
   "cell_type": "code",
   "execution_count": 31,
   "metadata": {},
   "outputs": [],
   "source": [
    "from sklearn.model_selection import train_test_split\n",
    "from sklearn.linear_model import LogisticRegression\n",
    "from sklearn.metrics import roc_auc_score"
   ]
  },
  {
   "cell_type": "code",
   "execution_count": 32,
   "metadata": {},
   "outputs": [
    {
     "name": "stdout",
     "output_type": "stream",
     "text": [
      "ROC-AUC: 0.8507\n",
      "CPU times: user 2min 48s, sys: 31.6 s, total: 3min 20s\n",
      "Wall time: 2min 47s\n"
     ]
    }
   ],
   "source": [
    "%%time\n",
    "clf = LogisticRegression(random_state=42, C=4.2).fit(X_train, y_train)\n",
    "print('ROC-AUC: %.4f' % roc_auc_score(y_train, clf.predict_proba(X_train)[:, 1]))"
   ]
  },
  {
   "cell_type": "markdown",
   "metadata": {},
   "source": [
    "Рейтинг игрока - это значение компоненты вектора модели, соответствующего заданному игроку. Чем больше этот коэффициент, тем больше сумма под сигмойдой логистической регресии и, соответственно, тем больше вклад игрока в вероятность правильно ответить команде."
   ]
  },
  {
   "cell_type": "code",
   "execution_count": 33,
   "metadata": {},
   "outputs": [],
   "source": [
    "def model_rating_players(input_clf, dict_player):\n",
    "    coef_player = input_clf.coef_[0][:len(dict_player)]\n",
    "    rating_dict = defaultdict(list)\n",
    "    \n",
    "    for i, _player in enumerate(dict_player.keys()):\n",
    "        rating_dict['id_player'].append(_player)\n",
    "        rating_dict['rating'].append(coef_player[i])\n",
    "        \n",
    "    rating_df = pd.DataFrame(rating_dict)\n",
    "    rating_df = pd.merge(player_df, rating_df, how='inner', on='id_player')\n",
    "    return rating_df"
   ]
  },
  {
   "cell_type": "code",
   "execution_count": 34,
   "metadata": {},
   "outputs": [
    {
     "data": {
      "text/html": [
       "<div>\n",
       "<style scoped>\n",
       "    .dataframe tbody tr th:only-of-type {\n",
       "        vertical-align: middle;\n",
       "    }\n",
       "\n",
       "    .dataframe tbody tr th {\n",
       "        vertical-align: top;\n",
       "    }\n",
       "\n",
       "    .dataframe thead th {\n",
       "        text-align: right;\n",
       "    }\n",
       "</style>\n",
       "<table border=\"1\" class=\"dataframe\">\n",
       "  <thead>\n",
       "    <tr style=\"text-align: right;\">\n",
       "      <th></th>\n",
       "      <th>id_player</th>\n",
       "      <th>name_player</th>\n",
       "      <th>rating</th>\n",
       "    </tr>\n",
       "  </thead>\n",
       "  <tbody>\n",
       "    <tr>\n",
       "      <th>3862</th>\n",
       "      <td>27403</td>\n",
       "      <td>Руссо Максим Михайлович</td>\n",
       "      <td>3.822337</td>\n",
       "    </tr>\n",
       "    <tr>\n",
       "      <th>604</th>\n",
       "      <td>4270</td>\n",
       "      <td>Брутер Александра Владимировна</td>\n",
       "      <td>3.679971</td>\n",
       "    </tr>\n",
       "    <tr>\n",
       "      <th>4239</th>\n",
       "      <td>30152</td>\n",
       "      <td>Сорожкин Артём Сергеевич</td>\n",
       "      <td>3.601156</td>\n",
       "    </tr>\n",
       "    <tr>\n",
       "      <th>4051</th>\n",
       "      <td>28751</td>\n",
       "      <td>Семушин Иван Николаевич</td>\n",
       "      <td>3.475942</td>\n",
       "    </tr>\n",
       "    <tr>\n",
       "      <th>3934</th>\n",
       "      <td>27822</td>\n",
       "      <td>Савченков Михаил Владимирович</td>\n",
       "      <td>3.388627</td>\n",
       "    </tr>\n",
       "    <tr>\n",
       "      <th>4793</th>\n",
       "      <td>34328</td>\n",
       "      <td>Царёв Михаил Сергеевич</td>\n",
       "      <td>3.349827</td>\n",
       "    </tr>\n",
       "    <tr>\n",
       "      <th>4259</th>\n",
       "      <td>30270</td>\n",
       "      <td>Спешков Сергей Леонидович</td>\n",
       "      <td>3.347212</td>\n",
       "    </tr>\n",
       "    <tr>\n",
       "      <th>5181</th>\n",
       "      <td>37047</td>\n",
       "      <td>Юнгер Мария Алексеевна</td>\n",
       "      <td>3.327710</td>\n",
       "    </tr>\n",
       "    <tr>\n",
       "      <th>544</th>\n",
       "      <td>3843</td>\n",
       "      <td>Бомешко Светлана Борисовна</td>\n",
       "      <td>3.285401</td>\n",
       "    </tr>\n",
       "    <tr>\n",
       "      <th>55487</th>\n",
       "      <td>216863</td>\n",
       "      <td>Гаврилов Глеб Юрьевич</td>\n",
       "      <td>3.256463</td>\n",
       "    </tr>\n",
       "    <tr>\n",
       "      <th>2927</th>\n",
       "      <td>20691</td>\n",
       "      <td>Мереминский Станислав Григорьевич</td>\n",
       "      <td>3.233262</td>\n",
       "    </tr>\n",
       "    <tr>\n",
       "      <th>1280</th>\n",
       "      <td>9061</td>\n",
       "      <td>Дёмин Евгений Васильевич</td>\n",
       "      <td>3.217976</td>\n",
       "    </tr>\n",
       "    <tr>\n",
       "      <th>988</th>\n",
       "      <td>7008</td>\n",
       "      <td>Гилёв Алексей Владимирович</td>\n",
       "      <td>3.196347</td>\n",
       "    </tr>\n",
       "    <tr>\n",
       "      <th>2568</th>\n",
       "      <td>18036</td>\n",
       "      <td>Левандовский Михаил Ильич</td>\n",
       "      <td>3.194346</td>\n",
       "    </tr>\n",
       "    <tr>\n",
       "      <th>5364</th>\n",
       "      <td>38196</td>\n",
       "      <td>Митрофанов Артём Александрович</td>\n",
       "      <td>3.193586</td>\n",
       "    </tr>\n",
       "    <tr>\n",
       "      <th>3904</th>\n",
       "      <td>27622</td>\n",
       "      <td>Рябых Николай Георгиевич</td>\n",
       "      <td>3.188265</td>\n",
       "    </tr>\n",
       "    <tr>\n",
       "      <th>766</th>\n",
       "      <td>5483</td>\n",
       "      <td>Веселов Иван Сергеевич</td>\n",
       "      <td>3.172083</td>\n",
       "    </tr>\n",
       "    <tr>\n",
       "      <th>57336</th>\n",
       "      <td>222188</td>\n",
       "      <td>Гринко Арина</td>\n",
       "      <td>3.159412</td>\n",
       "    </tr>\n",
       "    <tr>\n",
       "      <th>6721</th>\n",
       "      <td>56647</td>\n",
       "      <td>Горелова Наталья Евгеньевна</td>\n",
       "      <td>3.136535</td>\n",
       "    </tr>\n",
       "    <tr>\n",
       "      <th>3244</th>\n",
       "      <td>22935</td>\n",
       "      <td>Новиков Илья Сергеевич</td>\n",
       "      <td>3.122021</td>\n",
       "    </tr>\n",
       "    <tr>\n",
       "      <th>2609</th>\n",
       "      <td>18332</td>\n",
       "      <td>Либер Александр Витальевич</td>\n",
       "      <td>3.121790</td>\n",
       "    </tr>\n",
       "    <tr>\n",
       "      <th>3227</th>\n",
       "      <td>22799</td>\n",
       "      <td>Николенко Сергей Игоревич</td>\n",
       "      <td>3.109061</td>\n",
       "    </tr>\n",
       "    <tr>\n",
       "      <th>594</th>\n",
       "      <td>4226</td>\n",
       "      <td>Бровер Сусанна Марковна</td>\n",
       "      <td>3.101088</td>\n",
       "    </tr>\n",
       "    <tr>\n",
       "      <th>3070</th>\n",
       "      <td>21661</td>\n",
       "      <td>Москаленко Артём Валерьевич</td>\n",
       "      <td>3.079310</td>\n",
       "    </tr>\n",
       "    <tr>\n",
       "      <th>8172</th>\n",
       "      <td>74001</td>\n",
       "      <td>Мокин Игорь Викторович</td>\n",
       "      <td>3.071272</td>\n",
       "    </tr>\n",
       "  </tbody>\n",
       "</table>\n",
       "</div>"
      ],
      "text/plain": [
       "       id_player                        name_player    rating\n",
       "3862       27403            Руссо Максим Михайлович  3.822337\n",
       "604         4270     Брутер Александра Владимировна  3.679971\n",
       "4239       30152           Сорожкин Артём Сергеевич  3.601156\n",
       "4051       28751            Семушин Иван Николаевич  3.475942\n",
       "3934       27822      Савченков Михаил Владимирович  3.388627\n",
       "4793       34328             Царёв Михаил Сергеевич  3.349827\n",
       "4259       30270          Спешков Сергей Леонидович  3.347212\n",
       "5181       37047             Юнгер Мария Алексеевна  3.327710\n",
       "544         3843         Бомешко Светлана Борисовна  3.285401\n",
       "55487     216863              Гаврилов Глеб Юрьевич  3.256463\n",
       "2927       20691  Мереминский Станислав Григорьевич  3.233262\n",
       "1280        9061           Дёмин Евгений Васильевич  3.217976\n",
       "988         7008         Гилёв Алексей Владимирович  3.196347\n",
       "2568       18036          Левандовский Михаил Ильич  3.194346\n",
       "5364       38196     Митрофанов Артём Александрович  3.193586\n",
       "3904       27622           Рябых Николай Георгиевич  3.188265\n",
       "766         5483             Веселов Иван Сергеевич  3.172083\n",
       "57336     222188                      Гринко Арина   3.159412\n",
       "6721       56647        Горелова Наталья Евгеньевна  3.136535\n",
       "3244       22935             Новиков Илья Сергеевич  3.122021\n",
       "2609       18332         Либер Александр Витальевич  3.121790\n",
       "3227       22799          Николенко Сергей Игоревич  3.109061\n",
       "594         4226            Бровер Сусанна Марковна  3.101088\n",
       "3070       21661        Москаленко Артём Валерьевич  3.079310\n",
       "8172       74001             Мокин Игорь Викторович  3.071272"
      ]
     },
     "execution_count": 34,
     "metadata": {},
     "output_type": "execute_result"
    }
   ],
   "source": [
    "baseline_rating_players_df = model_rating_players(clf, dict_player_in_train)\n",
    "baseline_rating_players_df.sort_values(by='rating', ascending=False).head(25)"
   ]
  },
  {
   "cell_type": "markdown",
   "metadata": {},
   "source": [
    "Полученный рейтинг примерно соответствует текущему рейтингу с сайта ЧГК."
   ]
  },
  {
   "cell_type": "markdown",
   "metadata": {},
   "source": [
    "### Задача 3\n",
    "Качество рейтинг-системы оценивается качеством предсказаний результатов турниров. Но сами повопросные результаты наши модели предсказывать вряд ли смогут, ведь неизвестно, насколько сложными окажутся вопросы в будущих турнирах; да и не нужны эти предсказания сами по себе. Поэтому:\n",
    "- предложите способ предсказать результаты нового турнира с известными составами, но неизвестными вопросами, в виде ранжирования команд;\n",
    "- в качестве метрики качества на тестовом наборе давайте считать ранговые корреляции Спирмена и Кендалла (их можно взять в пакете scipy ) между реальным ранжированием в результатах турнира и предсказанным моделью, усреднённые по тестовому множеству турниров."
   ]
  },
  {
   "cell_type": "markdown",
   "metadata": {},
   "source": [
    "### Решение"
   ]
  },
  {
   "cell_type": "markdown",
   "metadata": {},
   "source": [
    "В тестовом наборе мы не знаем сложность вопросов, но как и в ретроспективном исследовании (как на лекции) это не помешает оценить вклад известных параметров (а это составы команд) в вероятность ответить правильно на вопросы.\n",
    "Оценим потенциал команды как сумму рейтингов игроков. У кого эта сумма больше, тот и выигрывает турнир."
   ]
  },
  {
   "cell_type": "code",
   "execution_count": 35,
   "metadata": {},
   "outputs": [
    {
     "data": {
      "text/html": [
       "<div>\n",
       "<style scoped>\n",
       "    .dataframe tbody tr th:only-of-type {\n",
       "        vertical-align: middle;\n",
       "    }\n",
       "\n",
       "    .dataframe tbody tr th {\n",
       "        vertical-align: top;\n",
       "    }\n",
       "\n",
       "    .dataframe thead th {\n",
       "        text-align: right;\n",
       "    }\n",
       "</style>\n",
       "<table border=\"1\" class=\"dataframe\">\n",
       "  <thead>\n",
       "    <tr style=\"text-align: right;\">\n",
       "      <th></th>\n",
       "      <th>id_tour</th>\n",
       "      <th>id_team</th>\n",
       "      <th>id_player</th>\n",
       "    </tr>\n",
       "  </thead>\n",
       "  <tbody>\n",
       "    <tr>\n",
       "      <th>0</th>\n",
       "      <td>4957</td>\n",
       "      <td>49804</td>\n",
       "      <td>30152</td>\n",
       "    </tr>\n",
       "    <tr>\n",
       "      <th>1</th>\n",
       "      <td>4957</td>\n",
       "      <td>49804</td>\n",
       "      <td>30270</td>\n",
       "    </tr>\n",
       "    <tr>\n",
       "      <th>2</th>\n",
       "      <td>4957</td>\n",
       "      <td>49804</td>\n",
       "      <td>27822</td>\n",
       "    </tr>\n",
       "    <tr>\n",
       "      <th>3</th>\n",
       "      <td>4957</td>\n",
       "      <td>49804</td>\n",
       "      <td>28751</td>\n",
       "    </tr>\n",
       "    <tr>\n",
       "      <th>4</th>\n",
       "      <td>4957</td>\n",
       "      <td>49804</td>\n",
       "      <td>27403</td>\n",
       "    </tr>\n",
       "  </tbody>\n",
       "</table>\n",
       "</div>"
      ],
      "text/plain": [
       "   id_tour  id_team  id_player\n",
       "0     4957    49804      30152\n",
       "1     4957    49804      30270\n",
       "2     4957    49804      27822\n",
       "3     4957    49804      28751\n",
       "4     4957    49804      27403"
      ]
     },
     "execution_count": 35,
     "metadata": {},
     "output_type": "execute_result"
    }
   ],
   "source": [
    "test_df = pd.read_csv('test_df.csv')\n",
    "test_df = test_df[test_df['id_player'].isin(dict_player_in_train.keys())]\n",
    "test_df.head(5)"
   ]
  },
  {
   "cell_type": "code",
   "execution_count": 36,
   "metadata": {},
   "outputs": [
    {
     "data": {
      "text/html": [
       "<div>\n",
       "<style scoped>\n",
       "    .dataframe tbody tr th:only-of-type {\n",
       "        vertical-align: middle;\n",
       "    }\n",
       "\n",
       "    .dataframe tbody tr th {\n",
       "        vertical-align: top;\n",
       "    }\n",
       "\n",
       "    .dataframe thead th {\n",
       "        text-align: right;\n",
       "    }\n",
       "</style>\n",
       "<table border=\"1\" class=\"dataframe\">\n",
       "  <thead>\n",
       "    <tr style=\"text-align: right;\">\n",
       "      <th></th>\n",
       "      <th>id_tour</th>\n",
       "      <th>id_team</th>\n",
       "      <th>place_in_tour</th>\n",
       "    </tr>\n",
       "  </thead>\n",
       "  <tbody>\n",
       "    <tr>\n",
       "      <th>0</th>\n",
       "      <td>4957</td>\n",
       "      <td>49804</td>\n",
       "      <td>1</td>\n",
       "    </tr>\n",
       "    <tr>\n",
       "      <th>6</th>\n",
       "      <td>4957</td>\n",
       "      <td>4109</td>\n",
       "      <td>2</td>\n",
       "    </tr>\n",
       "    <tr>\n",
       "      <th>12</th>\n",
       "      <td>4957</td>\n",
       "      <td>3875</td>\n",
       "      <td>3</td>\n",
       "    </tr>\n",
       "    <tr>\n",
       "      <th>18</th>\n",
       "      <td>4957</td>\n",
       "      <td>77418</td>\n",
       "      <td>4</td>\n",
       "    </tr>\n",
       "    <tr>\n",
       "      <th>24</th>\n",
       "      <td>4957</td>\n",
       "      <td>2</td>\n",
       "      <td>5</td>\n",
       "    </tr>\n",
       "    <tr>\n",
       "      <th>30</th>\n",
       "      <td>4957</td>\n",
       "      <td>45367</td>\n",
       "      <td>6</td>\n",
       "    </tr>\n",
       "    <tr>\n",
       "      <th>35</th>\n",
       "      <td>4957</td>\n",
       "      <td>4622</td>\n",
       "      <td>7</td>\n",
       "    </tr>\n",
       "    <tr>\n",
       "      <th>41</th>\n",
       "      <td>4957</td>\n",
       "      <td>4174</td>\n",
       "      <td>8</td>\n",
       "    </tr>\n",
       "    <tr>\n",
       "      <th>46</th>\n",
       "      <td>4957</td>\n",
       "      <td>75600</td>\n",
       "      <td>9</td>\n",
       "    </tr>\n",
       "    <tr>\n",
       "      <th>53</th>\n",
       "      <td>4957</td>\n",
       "      <td>59580</td>\n",
       "      <td>10</td>\n",
       "    </tr>\n",
       "  </tbody>\n",
       "</table>\n",
       "</div>"
      ],
      "text/plain": [
       "    id_tour  id_team  place_in_tour\n",
       "0      4957    49804              1\n",
       "6      4957     4109              2\n",
       "12     4957     3875              3\n",
       "18     4957    77418              4\n",
       "24     4957        2              5\n",
       "30     4957    45367              6\n",
       "35     4957     4622              7\n",
       "41     4957     4174              8\n",
       "46     4957    75600              9\n",
       "53     4957    59580             10"
      ]
     },
     "execution_count": 36,
     "metadata": {},
     "output_type": "execute_result"
    }
   ],
   "source": [
    "test_result_df = test_df.copy()#['id_tour', 'id_team']\n",
    "test_result_df.drop_duplicates(subset=['id_tour', 'id_team'], inplace=True)\n",
    "test_result_df = test_result_df[['id_tour', 'id_team']]\n",
    "\n",
    "list_tour = test_df['id_tour'].unique().tolist()\n",
    "rating_team = []\n",
    "\n",
    "for id_tour in list_tour:\n",
    "    current_tour_df = test_result_df[test_result_df['id_tour'] == id_tour]\n",
    "    list_team = current_tour_df['id_team'].unique().tolist()\n",
    "    for i, _team in enumerate(list_team):\n",
    "        rating_team.append(i + 1)\n",
    "\n",
    "test_result_df['place_in_tour'] = rating_team\n",
    "test_result_df.head(10)"
   ]
  },
  {
   "cell_type": "code",
   "execution_count": 37,
   "metadata": {},
   "outputs": [],
   "source": [
    "def predict_place_in_tour(input_clf, input_df, dict_player, input_result_df):\n",
    "    dict_model_place = defaultdict(list)\n",
    "    \n",
    "    rating_players_df = model_rating_players(input_clf, dict_player)\n",
    "    list_tour = input_df['id_tour'].unique().tolist()\n",
    "    for id_tour in list_tour:\n",
    "        current_tour_df = input_df[input_df['id_tour'] == id_tour]\n",
    "        list_team = current_tour_df['id_team'].unique().tolist()\n",
    "        \n",
    "        array_sum_rating = []\n",
    "        for i, _team in enumerate(list_team):\n",
    "            current_team_df = current_tour_df[current_tour_df['id_team'] == _team]\n",
    "            sum_rating = 0\n",
    "            for _player in current_team_df['id_player'].tolist():\n",
    "                if _player in dict_player.keys():\n",
    "                    sum_rating += rating_players_df[rating_players_df['id_player'] == _player]['rating'].values[0]\n",
    "            array_sum_rating.append((_team, sum_rating))\n",
    "            \n",
    "        array_sum_rating = sorted(array_sum_rating, key=lambda l: l[1], reverse=True)\n",
    "        for j, _rating in enumerate(array_sum_rating):\n",
    "            dict_model_place['id_tour'].append(id_tour)\n",
    "            dict_model_place['id_team'].append(_rating[0])\n",
    "            dict_model_place['model_place_in_tour'].append(j + 1)\n",
    "            \n",
    "    return pd.merge(input_result_df, pd.DataFrame(dict_model_place), how='inner', on=['id_tour', 'id_team'])"
   ]
  },
  {
   "cell_type": "code",
   "execution_count": 38,
   "metadata": {},
   "outputs": [
    {
     "data": {
      "text/html": [
       "<div>\n",
       "<style scoped>\n",
       "    .dataframe tbody tr th:only-of-type {\n",
       "        vertical-align: middle;\n",
       "    }\n",
       "\n",
       "    .dataframe tbody tr th {\n",
       "        vertical-align: top;\n",
       "    }\n",
       "\n",
       "    .dataframe thead th {\n",
       "        text-align: right;\n",
       "    }\n",
       "</style>\n",
       "<table border=\"1\" class=\"dataframe\">\n",
       "  <thead>\n",
       "    <tr style=\"text-align: right;\">\n",
       "      <th></th>\n",
       "      <th>id_tour</th>\n",
       "      <th>id_team</th>\n",
       "      <th>place_in_tour</th>\n",
       "      <th>model_place_in_tour</th>\n",
       "    </tr>\n",
       "  </thead>\n",
       "  <tbody>\n",
       "    <tr>\n",
       "      <th>0</th>\n",
       "      <td>4957</td>\n",
       "      <td>49804</td>\n",
       "      <td>1</td>\n",
       "      <td>1</td>\n",
       "    </tr>\n",
       "    <tr>\n",
       "      <th>1</th>\n",
       "      <td>4957</td>\n",
       "      <td>4109</td>\n",
       "      <td>2</td>\n",
       "      <td>8</td>\n",
       "    </tr>\n",
       "    <tr>\n",
       "      <th>2</th>\n",
       "      <td>4957</td>\n",
       "      <td>3875</td>\n",
       "      <td>3</td>\n",
       "      <td>10</td>\n",
       "    </tr>\n",
       "    <tr>\n",
       "      <th>3</th>\n",
       "      <td>4957</td>\n",
       "      <td>77418</td>\n",
       "      <td>4</td>\n",
       "      <td>3</td>\n",
       "    </tr>\n",
       "    <tr>\n",
       "      <th>4</th>\n",
       "      <td>4957</td>\n",
       "      <td>2</td>\n",
       "      <td>5</td>\n",
       "      <td>4</td>\n",
       "    </tr>\n",
       "    <tr>\n",
       "      <th>5</th>\n",
       "      <td>4957</td>\n",
       "      <td>45367</td>\n",
       "      <td>6</td>\n",
       "      <td>9</td>\n",
       "    </tr>\n",
       "    <tr>\n",
       "      <th>6</th>\n",
       "      <td>4957</td>\n",
       "      <td>4622</td>\n",
       "      <td>7</td>\n",
       "      <td>12</td>\n",
       "    </tr>\n",
       "    <tr>\n",
       "      <th>7</th>\n",
       "      <td>4957</td>\n",
       "      <td>4174</td>\n",
       "      <td>8</td>\n",
       "      <td>29</td>\n",
       "    </tr>\n",
       "    <tr>\n",
       "      <th>8</th>\n",
       "      <td>4957</td>\n",
       "      <td>75600</td>\n",
       "      <td>9</td>\n",
       "      <td>6</td>\n",
       "    </tr>\n",
       "    <tr>\n",
       "      <th>9</th>\n",
       "      <td>4957</td>\n",
       "      <td>59580</td>\n",
       "      <td>10</td>\n",
       "      <td>15</td>\n",
       "    </tr>\n",
       "  </tbody>\n",
       "</table>\n",
       "</div>"
      ],
      "text/plain": [
       "   id_tour  id_team  place_in_tour  model_place_in_tour\n",
       "0     4957    49804              1                    1\n",
       "1     4957     4109              2                    8\n",
       "2     4957     3875              3                   10\n",
       "3     4957    77418              4                    3\n",
       "4     4957        2              5                    4\n",
       "5     4957    45367              6                    9\n",
       "6     4957     4622              7                   12\n",
       "7     4957     4174              8                   29\n",
       "8     4957    75600              9                    6\n",
       "9     4957    59580             10                   15"
      ]
     },
     "execution_count": 38,
     "metadata": {},
     "output_type": "execute_result"
    }
   ],
   "source": [
    "model_result_df = predict_place_in_tour(clf, test_df, dict_player_in_train, test_result_df)\n",
    "model_result_df.head(10)"
   ]
  },
  {
   "cell_type": "code",
   "execution_count": 39,
   "metadata": {},
   "outputs": [],
   "source": [
    "from scipy.stats import spearmanr, kendalltau\n",
    "\n",
    "def calculate_corr(res_df, return_data=False):\n",
    "    sp_array, kd_array = [], []\n",
    "    \n",
    "    list_tour = res_df['id_tour'].unique().tolist()\n",
    "    for id_tour in list_tour:\n",
    "        current_tour_df = res_df[res_df['id_tour'] == id_tour]\n",
    "        if len(current_tour_df['model_place_in_tour'].values) > 1:\n",
    "            s = spearmanr(current_tour_df['place_in_tour'].values, \n",
    "                          current_tour_df['model_place_in_tour'].values)[0]\n",
    "            sp_array.append(s)\n",
    "            k = kendalltau(current_tour_df['place_in_tour'].values, \n",
    "                           current_tour_df['model_place_in_tour'].values)[0]\n",
    "            kd_array.append(k)\n",
    "    \n",
    "    print('Корреляция Спирмена: MEAN___%.3f, MEDIAN___%.3f' % (np.mean(sp_array), np.median(sp_array)))\n",
    "    print('Корреляция Кендала: MEAN___%.3f, MEDIAN___%.3f' % (np.mean(kd_array),np.median(kd_array)))\n",
    "    if return_data:\n",
    "        return sp_array, kd_array"
   ]
  },
  {
   "cell_type": "code",
   "execution_count": 40,
   "metadata": {},
   "outputs": [
    {
     "name": "stdout",
     "output_type": "stream",
     "text": [
      "Корреляция Спирмена: MEAN___0.769, MEDIAN___0.800\n",
      "Корреляция Кендала: MEAN___0.599, MEDIAN___0.614\n"
     ]
    }
   ],
   "source": [
    "calculate_corr(model_result_df)"
   ]
  },
  {
   "cell_type": "markdown",
   "metadata": {},
   "source": [
    "Значения корелляций указывают на корректность предположений и верную реализацию baseline-модели"
   ]
  },
  {
   "cell_type": "markdown",
   "metadata": {},
   "source": [
    "### Задание 4\n",
    "Теперь главное: ЧГК — это всё-таки командная игра. Поэтому:\n",
    "- предложите способ учитывать то, что на вопрос отвечают сразу несколько игроков; скорее всего, понадобятся скрытые переменные; не стесняйтесь делать упрощающие предположения, но теперь переменные “игрок X ответил на вопрос Y” при условии данных должны стать зависимыми для игроков одной и той же команды;\n",
    "- разработайте EM-схему для обучения этой модели, реализуйте её в коде;\n",
    "- обучите несколько итераций, убедитесь, что целевые метрики со временем растут (скорее всего, ненамного, но расти должны), выберите лучшую модель, используя целевые метрики."
   ]
  },
  {
   "cell_type": "markdown",
   "metadata": {},
   "source": [
    "### Решение"
   ]
  },
  {
   "cell_type": "code",
   "execution_count": 44,
   "metadata": {},
   "outputs": [],
   "source": [
    "import torch\n",
    "import torch.nn as nn\n",
    "from torch.nn import functional as F"
   ]
  },
  {
   "cell_type": "code",
   "execution_count": null,
   "metadata": {},
   "outputs": [],
   "source": []
  },
  {
   "cell_type": "code",
   "execution_count": null,
   "metadata": {},
   "outputs": [],
   "source": []
  },
  {
   "cell_type": "code",
   "execution_count": null,
   "metadata": {},
   "outputs": [],
   "source": []
  },
  {
   "cell_type": "markdown",
   "metadata": {},
   "source": [
    "### Задание 5\n",
    "А что там с вопросами? Постройте “рейтинг-лист” турниров по сложности вопросов. Соответствует ли он интуиции (например, на чемпионате мира в целом должны быть сложные вопросы, а на турнирах для школьников — простые)?\n",
    "Если будет интересно: постройте топ сложных и простых вопросов со ссылками на конкретные записи в базе\n",
    "вопросов ЧГК (это чисто техническое дело, тут никакого ML нету)."
   ]
  },
  {
   "cell_type": "markdown",
   "metadata": {},
   "source": [
    "### Решение"
   ]
  },
  {
   "cell_type": "markdown",
   "metadata": {},
   "source": [
    "По аналогии с рейтингом игроков будем считать сложностью вопроса его коэффициент в логистической регресии. При этом чем он меньше (тем меньше сумма под сигмойдой и меньше вероятность правильного ответа), тем вопрос сложнее. Сложность турнира оценим как медианное значение сложностей вопросов."
   ]
  },
  {
   "cell_type": "code",
   "execution_count": 59,
   "metadata": {},
   "outputs": [],
   "source": [
    "def model_rating_question(input_clf, dict_player, dict_question):\n",
    "    coef_question = input_clf.coef_[0][len(dict_player): (len(dict_player) + len(dict_question))]\n",
    "    rating_dict = defaultdict(list)\n",
    "    \n",
    "    for i, _question in enumerate(dict_question.keys()):\n",
    "        rating_dict['id_question'].append(_question)\n",
    "        rating_dict['rating'].append(coef_question[i])\n",
    "        \n",
    "    rating_df = pd.DataFrame(rating_dict)\n",
    "    return pd.merge(train_df, rating_df, how='inner', on='id_question')"
   ]
  },
  {
   "cell_type": "code",
   "execution_count": 65,
   "metadata": {},
   "outputs": [],
   "source": [
    "rating_question_df = model_rating_question(clf, dict_player_in_train, dict_question_in_train)\n",
    "rating_tour_df = rating_question_df.groupby('id_tour')['rating'].agg(np.median).reset_index()\n",
    "rating_tour_df = pd.merge(\n",
    "    tour_df, rating_tour_df, how='inner', on='id_tour').sort_values('rating')[['name_tour', 'rating']]"
   ]
  },
  {
   "cell_type": "code",
   "execution_count": 66,
   "metadata": {},
   "outputs": [
    {
     "data": {
      "text/html": [
       "<div>\n",
       "<style scoped>\n",
       "    .dataframe tbody tr th:only-of-type {\n",
       "        vertical-align: middle;\n",
       "    }\n",
       "\n",
       "    .dataframe tbody tr th {\n",
       "        vertical-align: top;\n",
       "    }\n",
       "\n",
       "    .dataframe thead th {\n",
       "        text-align: right;\n",
       "    }\n",
       "</style>\n",
       "<table border=\"1\" class=\"dataframe\">\n",
       "  <thead>\n",
       "    <tr style=\"text-align: right;\">\n",
       "      <th></th>\n",
       "      <th>name_tour</th>\n",
       "      <th>rating</th>\n",
       "    </tr>\n",
       "  </thead>\n",
       "  <tbody>\n",
       "    <tr>\n",
       "      <th>663</th>\n",
       "      <td>Чемпионат Санкт-Петербурга. Первая лига</td>\n",
       "      <td>-3.405075</td>\n",
       "    </tr>\n",
       "    <tr>\n",
       "      <th>541</th>\n",
       "      <td>Угрюмый Ёрш</td>\n",
       "      <td>-2.479485</td>\n",
       "    </tr>\n",
       "    <tr>\n",
       "      <th>369</th>\n",
       "      <td>Синхрон высшей лиги Москвы</td>\n",
       "      <td>-2.453949</td>\n",
       "    </tr>\n",
       "    <tr>\n",
       "      <th>639</th>\n",
       "      <td>Воображаемый музей</td>\n",
       "      <td>-2.021068</td>\n",
       "    </tr>\n",
       "    <tr>\n",
       "      <th>43</th>\n",
       "      <td>Первенство правого полушария</td>\n",
       "      <td>-1.988930</td>\n",
       "    </tr>\n",
       "    <tr>\n",
       "      <th>594</th>\n",
       "      <td>Тихий Донец: омут первый</td>\n",
       "      <td>-1.919273</td>\n",
       "    </tr>\n",
       "    <tr>\n",
       "      <th>284</th>\n",
       "      <td>Записки охотника</td>\n",
       "      <td>-1.911678</td>\n",
       "    </tr>\n",
       "    <tr>\n",
       "      <th>26</th>\n",
       "      <td>Ускользающая сова</td>\n",
       "      <td>-1.765630</td>\n",
       "    </tr>\n",
       "    <tr>\n",
       "      <th>225</th>\n",
       "      <td>Чемпионат Минска. Лига А. Тур четвёртый</td>\n",
       "      <td>-1.742771</td>\n",
       "    </tr>\n",
       "    <tr>\n",
       "      <th>67</th>\n",
       "      <td>Мемориал Дмитрия Коноваленко</td>\n",
       "      <td>-1.695851</td>\n",
       "    </tr>\n",
       "    <tr>\n",
       "      <th>13</th>\n",
       "      <td>Кубок городов</td>\n",
       "      <td>-1.628901</td>\n",
       "    </tr>\n",
       "    <tr>\n",
       "      <th>552</th>\n",
       "      <td>Чемпионат Мира. Этап 2. Группа В</td>\n",
       "      <td>-1.593072</td>\n",
       "    </tr>\n",
       "    <tr>\n",
       "      <th>138</th>\n",
       "      <td>Львов зимой. Адвокат</td>\n",
       "      <td>-1.591718</td>\n",
       "    </tr>\n",
       "    <tr>\n",
       "      <th>553</th>\n",
       "      <td>Чемпионат Мира. Этап 2 Группа С</td>\n",
       "      <td>-1.590873</td>\n",
       "    </tr>\n",
       "    <tr>\n",
       "      <th>613</th>\n",
       "      <td>ТрЭК-13</td>\n",
       "      <td>-1.562514</td>\n",
       "    </tr>\n",
       "    <tr>\n",
       "      <th>377</th>\n",
       "      <td>Знание – Сила VI</td>\n",
       "      <td>-1.557288</td>\n",
       "    </tr>\n",
       "    <tr>\n",
       "      <th>130</th>\n",
       "      <td>Серия Premier. Седьмая печать</td>\n",
       "      <td>-1.556168</td>\n",
       "    </tr>\n",
       "    <tr>\n",
       "      <th>44</th>\n",
       "      <td>Антибинго</td>\n",
       "      <td>-1.517484</td>\n",
       "    </tr>\n",
       "    <tr>\n",
       "      <th>550</th>\n",
       "      <td>Чемпионат Мира. Этап 1. Группа С</td>\n",
       "      <td>-1.482996</td>\n",
       "    </tr>\n",
       "    <tr>\n",
       "      <th>179</th>\n",
       "      <td>Чемпионат России</td>\n",
       "      <td>-1.461532</td>\n",
       "    </tr>\n",
       "  </tbody>\n",
       "</table>\n",
       "</div>"
      ],
      "text/plain": [
       "                                   name_tour    rating\n",
       "663  Чемпионат Санкт-Петербурга. Первая лига -3.405075\n",
       "541                              Угрюмый Ёрш -2.479485\n",
       "369               Синхрон высшей лиги Москвы -2.453949\n",
       "639                       Воображаемый музей -2.021068\n",
       "43              Первенство правого полушария -1.988930\n",
       "594                 Тихий Донец: омут первый -1.919273\n",
       "284                         Записки охотника -1.911678\n",
       "26                         Ускользающая сова -1.765630\n",
       "225  Чемпионат Минска. Лига А. Тур четвёртый -1.742771\n",
       "67              Мемориал Дмитрия Коноваленко -1.695851\n",
       "13                             Кубок городов -1.628901\n",
       "552         Чемпионат Мира. Этап 2. Группа В -1.593072\n",
       "138                     Львов зимой. Адвокат -1.591718\n",
       "553          Чемпионат Мира. Этап 2 Группа С -1.590873\n",
       "613                                  ТрЭК-13 -1.562514\n",
       "377                         Знание – Сила VI -1.557288\n",
       "130            Серия Premier. Седьмая печать -1.556168\n",
       "44                                 Антибинго -1.517484\n",
       "550         Чемпионат Мира. Этап 1. Группа С -1.482996\n",
       "179                         Чемпионат России -1.461532"
      ]
     },
     "execution_count": 66,
     "metadata": {},
     "output_type": "execute_result"
    }
   ],
   "source": [
    "rating_tour_df.head(20)"
   ]
  },
  {
   "cell_type": "code",
   "execution_count": 67,
   "metadata": {},
   "outputs": [
    {
     "data": {
      "text/html": [
       "<div>\n",
       "<style scoped>\n",
       "    .dataframe tbody tr th:only-of-type {\n",
       "        vertical-align: middle;\n",
       "    }\n",
       "\n",
       "    .dataframe tbody tr th {\n",
       "        vertical-align: top;\n",
       "    }\n",
       "\n",
       "    .dataframe thead th {\n",
       "        text-align: right;\n",
       "    }\n",
       "</style>\n",
       "<table border=\"1\" class=\"dataframe\">\n",
       "  <thead>\n",
       "    <tr style=\"text-align: right;\">\n",
       "      <th></th>\n",
       "      <th>name_tour</th>\n",
       "      <th>rating</th>\n",
       "    </tr>\n",
       "  </thead>\n",
       "  <tbody>\n",
       "    <tr>\n",
       "      <th>386</th>\n",
       "      <td>(а)Синхрон-lite. Лига старта. Эпизод X</td>\n",
       "      <td>1.481338</td>\n",
       "    </tr>\n",
       "    <tr>\n",
       "      <th>524</th>\n",
       "      <td>Ничто, нигде, никогда</td>\n",
       "      <td>1.487170</td>\n",
       "    </tr>\n",
       "    <tr>\n",
       "      <th>9</th>\n",
       "      <td>(а)Синхрон-lite. Лига старта. Эпизод IV</td>\n",
       "      <td>1.537593</td>\n",
       "    </tr>\n",
       "    <tr>\n",
       "      <th>491</th>\n",
       "      <td>Летний салат</td>\n",
       "      <td>1.559555</td>\n",
       "    </tr>\n",
       "    <tr>\n",
       "      <th>529</th>\n",
       "      <td>Осенняя кинолига</td>\n",
       "      <td>1.565680</td>\n",
       "    </tr>\n",
       "    <tr>\n",
       "      <th>221</th>\n",
       "      <td>KFC</td>\n",
       "      <td>1.572107</td>\n",
       "    </tr>\n",
       "    <tr>\n",
       "      <th>200</th>\n",
       "      <td>Школьнае люстэрка</td>\n",
       "      <td>1.586981</td>\n",
       "    </tr>\n",
       "    <tr>\n",
       "      <th>38</th>\n",
       "      <td>Лига Сибири. VI тур.</td>\n",
       "      <td>1.604922</td>\n",
       "    </tr>\n",
       "    <tr>\n",
       "      <th>399</th>\n",
       "      <td>Синхрон-lite. Выпуск XXX</td>\n",
       "      <td>1.610264</td>\n",
       "    </tr>\n",
       "    <tr>\n",
       "      <th>384</th>\n",
       "      <td>(а)Синхрон-lite. Лига старта. Эпизод IX</td>\n",
       "      <td>1.613236</td>\n",
       "    </tr>\n",
       "    <tr>\n",
       "      <th>167</th>\n",
       "      <td>ВДИ - март</td>\n",
       "      <td>1.636664</td>\n",
       "    </tr>\n",
       "    <tr>\n",
       "      <th>573</th>\n",
       "      <td>Кубок малых городов</td>\n",
       "      <td>1.649647</td>\n",
       "    </tr>\n",
       "    <tr>\n",
       "      <th>197</th>\n",
       "      <td>Маленькае люстэрка</td>\n",
       "      <td>1.650319</td>\n",
       "    </tr>\n",
       "    <tr>\n",
       "      <th>598</th>\n",
       "      <td>Второй тематический турнир имени Джоуи Триббиани</td>\n",
       "      <td>1.664217</td>\n",
       "    </tr>\n",
       "    <tr>\n",
       "      <th>355</th>\n",
       "      <td>Командум</td>\n",
       "      <td>1.701208</td>\n",
       "    </tr>\n",
       "    <tr>\n",
       "      <th>11</th>\n",
       "      <td>(а)Синхрон-lite. Лига старта. Эпизод V</td>\n",
       "      <td>1.744156</td>\n",
       "    </tr>\n",
       "    <tr>\n",
       "      <th>545</th>\n",
       "      <td>Асинхрон по «Королю и Шуту»</td>\n",
       "      <td>1.768915</td>\n",
       "    </tr>\n",
       "    <tr>\n",
       "      <th>575</th>\n",
       "      <td>Чемпионат Минска. Лига Б. Тур первый</td>\n",
       "      <td>1.813731</td>\n",
       "    </tr>\n",
       "    <tr>\n",
       "      <th>154</th>\n",
       "      <td>Синхрон Лиги Разума</td>\n",
       "      <td>1.856159</td>\n",
       "    </tr>\n",
       "    <tr>\n",
       "      <th>7</th>\n",
       "      <td>(а)Синхрон-lite. Лига старта. Эпизод III</td>\n",
       "      <td>1.859029</td>\n",
       "    </tr>\n",
       "  </tbody>\n",
       "</table>\n",
       "</div>"
      ],
      "text/plain": [
       "                                            name_tour    rating\n",
       "386            (а)Синхрон-lite. Лига старта. Эпизод X  1.481338\n",
       "524                             Ничто, нигде, никогда  1.487170\n",
       "9             (а)Синхрон-lite. Лига старта. Эпизод IV  1.537593\n",
       "491                                      Летний салат  1.559555\n",
       "529                                  Осенняя кинолига  1.565680\n",
       "221                                               KFC  1.572107\n",
       "200                                 Школьнае люстэрка  1.586981\n",
       "38                               Лига Сибири. VI тур.  1.604922\n",
       "399                          Синхрон-lite. Выпуск XXX  1.610264\n",
       "384           (а)Синхрон-lite. Лига старта. Эпизод IX  1.613236\n",
       "167                                        ВДИ - март  1.636664\n",
       "573                               Кубок малых городов  1.649647\n",
       "197                                Маленькае люстэрка  1.650319\n",
       "598  Второй тематический турнир имени Джоуи Триббиани  1.664217\n",
       "355                                          Командум  1.701208\n",
       "11             (а)Синхрон-lite. Лига старта. Эпизод V  1.744156\n",
       "545                       Асинхрон по «Королю и Шуту»  1.768915\n",
       "575              Чемпионат Минска. Лига Б. Тур первый  1.813731\n",
       "154                               Синхрон Лиги Разума  1.856159\n",
       "7            (а)Синхрон-lite. Лига старта. Эпизод III  1.859029"
      ]
     },
     "execution_count": 67,
     "metadata": {},
     "output_type": "execute_result"
    }
   ],
   "source": [
    "rating_tour_df.tail(20)"
   ]
  },
  {
   "cell_type": "markdown",
   "metadata": {},
   "source": [
    "Полученные результаты соответствуют интуиции"
   ]
  },
  {
   "cell_type": "code",
   "execution_count": null,
   "metadata": {},
   "outputs": [],
   "source": []
  },
  {
   "cell_type": "code",
   "execution_count": null,
   "metadata": {},
   "outputs": [],
   "source": []
  }
 ],
 "metadata": {
  "kernelspec": {
   "display_name": "Python 3",
   "language": "python",
   "name": "python3"
  },
  "language_info": {
   "codemirror_mode": {
    "name": "ipython",
    "version": 3
   },
   "file_extension": ".py",
   "mimetype": "text/x-python",
   "name": "python",
   "nbconvert_exporter": "python",
   "pygments_lexer": "ipython3",
   "version": "3.7.6"
  }
 },
 "nbformat": 4,
 "nbformat_minor": 4
}
