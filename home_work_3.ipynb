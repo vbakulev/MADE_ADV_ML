{
 "cells": [
  {
   "cell_type": "markdown",
   "metadata": {},
   "source": [
    "# Продвинутое машинное обучение: ДЗ 3"
   ]
  },
  {
   "cell_type": "markdown",
   "metadata": {},
   "source": [
    "Студент: Бакулев Владимир Леонидович\n",
    "\n",
    "Группа: MADE-DS-22\n",
    "\n",
    "Почта: vlbakulev@gmail.com"
   ]
  },
  {
   "cell_type": "code",
   "execution_count": 1,
   "metadata": {},
   "outputs": [],
   "source": [
    "import re\n",
    "import operator\n",
    "from collections import Counter\n",
    "from copy import copy\n",
    "import random\n",
    "\n",
    "import numpy as np\n",
    "import pandas as pd\n",
    "import seaborn as sns\n",
    "from nltk import ngrams\n",
    "\n",
    "from tqdm.notebook import tqdm\n",
    "\n",
    "from matplotlib import pyplot as plt\n",
    "%matplotlib inline"
   ]
  },
  {
   "cell_type": "markdown",
   "metadata": {},
   "source": [
    "### Задание 1\n",
    "\n",
    "Реализуйте базовый частотный метод по Шерлоку Холмсу:\n",
    "- подсчитайте частоты букв по корпусам (пунктуацию и капитализацию можно просто опустить, а вот пробелы лучше оставить);\n",
    "- возьмите какие-нибудь тестовые тексты (нужно взять по меньшей мере 2-3 предложения, иначе вряд ли сработает), зашифруйте их посредством случайной перестановки символов;\n",
    "- расшифруйте их таким частотным методом."
   ]
  },
  {
   "cell_type": "markdown",
   "metadata": {},
   "source": [
    "##### Решение\n",
    "\n",
    "Дешифровальный словарь:\n",
    "- ключи: отсортированный по частоте употребления список символов в тестовом тексте\n",
    "- значения: отсортированный по частоте употребления список символов в большом тексте (Война и мир)"
   ]
  },
  {
   "cell_type": "code",
   "execution_count": 2,
   "metadata": {},
   "outputs": [],
   "source": [
    "ABC = ' абвгдеёжзийклмнопрстуфхцчшщъыьэюя'\n",
    "\n",
    "WAR_AND_PEACE_PATH = './texts/WarAndPeace.txt'\n",
    "ANNA_KARENINA_PATH = './texts/AnnaKarenina.txt'\n",
    "ANY_TEXT_PATH = './texts/part_from_Dovlatov_Nashy.txt'"
   ]
  },
  {
   "cell_type": "code",
   "execution_count": 3,
   "metadata": {},
   "outputs": [],
   "source": [
    "def prepare_text(text_path):\n",
    "    \"\"\"\n",
    "    Считываем текст, после чего удаляем из текста табуляцию, переносы, \n",
    "    знаки препинания и приводим все к нижнему регистру\n",
    "    \"\"\"\n",
    "    clean_text = ''\n",
    "    with open(text_path, 'r') as fin:\n",
    "        for line in fin:\n",
    "            line_without_punctuation = re.sub(r\"\\W+\", \" \", line.lower())\n",
    "            char_in_abc = ''.join([char for char in line_without_punctuation if char in list(ABC)])\n",
    "            clean_text = ''.join([clean_text, char_in_abc])\n",
    "    return clean_text\n",
    "\n",
    "def calculate_ngramm(text, count_char_in_ngramm=1):\n",
    "    text_in_ngramm = [''.join(gram) for gram in ngrams(text, count_char_in_ngramm)]\n",
    "    counter_ngramm = dict(Counter(list(text_in_ngramm)))\n",
    "    sorted_counter_ngramm = dict(sorted(\n",
    "        counter_ngramm.items(), \n",
    "        key=operator.itemgetter(1),\n",
    "        reverse=True\n",
    "    ))\n",
    "    return sorted_counter_ngramm"
   ]
  },
  {
   "cell_type": "code",
   "execution_count": 4,
   "metadata": {},
   "outputs": [],
   "source": [
    "def encrypt_text(text, key_dict):\n",
    "    _encrypt_text = []\n",
    "    for char in list(text):\n",
    "        _encrypt_text += key_dict[char]\n",
    "    return ''.join(_encrypt_text)"
   ]
  },
  {
   "cell_type": "code",
   "execution_count": 5,
   "metadata": {},
   "outputs": [],
   "source": [
    "war_and_peace = prepare_text(WAR_AND_PEACE_PATH)\n",
    "any_text = prepare_text(ANY_TEXT_PATH)\n",
    "anna_karenina = prepare_text(ANNA_KARENINA_PATH)"
   ]
  },
  {
   "cell_type": "code",
   "execution_count": 6,
   "metadata": {},
   "outputs": [],
   "source": [
    "crypt_ABC = 'фадщоезкжятьнюйэёъпвчцлысрбугхиш м'\n",
    "encrypt_dict = dict(zip(ABC, crypt_ABC))\n",
    "# decrypt_dict = dict(zip(crypt_ABC, ABC))"
   ]
  },
  {
   "cell_type": "code",
   "execution_count": 7,
   "metadata": {},
   "outputs": [
    {
     "name": "stdout",
     "output_type": "stream",
     "text": [
      "дед исаак очень много ел батоны разрезал не поперек а вдоль в гостях бабка рая постоянно за него краснела прежде чем идти в гости дед обедал это не помогало куски хлеба он складывал пополам водку пил из бокала для крем соды во время десерта просил не убирать заливное вернувшись домой с облегчением ужинал \n"
     ]
    }
   ],
   "source": [
    "print(any_text)"
   ]
  },
  {
   "cell_type": "code",
   "execution_count": 8,
   "metadata": {},
   "outputs": [
    {
     "name": "stdout",
     "output_type": "stream",
     "text": [
      "езефтваанфёрзэифйэёоёфзюфдачёэхфпаяпзяаюфэзфъёъзпзнфафщеёюифщфоёвчмыфдаднафпамфъёвчёмээёфяафэзоёфнпавэзюафъпзжезфрзйфтечтфщфоёвчтфезефёдзеаюфшчёфэзфъёйёоаюёфнцвнтфыюздафёэфвнюаехщаюфъёъёюайфщёенцфътюфтяфдёнаюафеюмфнпзйфвёехфщёфщпзймфезвзпчафъпёвтюфэзфцдтпачифяаютщэёзфщзпэцщбтвифеёйёьфвфёдюзорзэтзйфцжтэаюф\n"
     ]
    }
   ],
   "source": [
    "encrypt_any_text = encrypt_text(any_text, key_dict=encrypt_dict)\n",
    "print(encrypt_any_text)"
   ]
  },
  {
   "cell_type": "code",
   "execution_count": 9,
   "metadata": {},
   "outputs": [],
   "source": [
    "war_and_peace_count_1gramm = calculate_ngramm(war_and_peace, count_char_in_ngramm=1)\n",
    "any_text_count_1gramm = calculate_ngramm(encrypt_any_text, count_char_in_ngramm=1)"
   ]
  },
  {
   "cell_type": "code",
   "execution_count": 10,
   "metadata": {},
   "outputs": [
    {
     "name": "stdout",
     "output_type": "stream",
     "text": [
      "тат слеер обанз мнояо аи уепонч вегвагеи на додавар е ктоиз к яолпьй уеуре веь долпоьнно ге наяо рвелнаие дважта бам стпс к яолпс тат оуатеи шпо на домояеио рылрс йиауе он лриетчкеи додоием котры дси сг уореие тиь рвам лотч ко квамь талавпе дволси на ыусвепз геискноа кавныкхслз томою л оуиаябансам ыжснеи \n"
     ]
    }
   ],
   "source": [
    "sorted_1gram_in_war_and_peace = list(war_and_peace_count_1gramm.keys())\n",
    "sorted_1gram_in_any_text = list(any_text_count_1gramm.keys())\n",
    "                                \n",
    "decrypt_dict_1gram = dict(zip(sorted_1gram_in_any_text, sorted_1gram_in_war_and_peace))\n",
    "decrypt_any_text_1gram = encrypt_text(encrypt_any_text, key_dict=decrypt_dict_1gram)\n",
    "                                \n",
    "print(decrypt_any_text_1gram)"
   ]
  },
  {
   "cell_type": "code",
   "execution_count": 11,
   "metadata": {},
   "outputs": [],
   "source": [
    "def accuracy_decrypt(encrypt_text, decrypt_text):\n",
    "    score = 0\n",
    "    for en_char, de_char in zip(encrypt_text, decrypt_text):\n",
    "        if en_char == de_char:\n",
    "            score += 1\n",
    "    return score / len(encrypt_text)"
   ]
  },
  {
   "cell_type": "code",
   "execution_count": 12,
   "metadata": {},
   "outputs": [
    {
     "data": {
      "text/plain": [
       "0.34967320261437906"
      ]
     },
     "execution_count": 12,
     "metadata": {},
     "output_type": "execute_result"
    }
   ],
   "source": [
    "accuracy_decrypt(any_text, decrypt_any_text_1gram)"
   ]
  },
  {
   "cell_type": "markdown",
   "metadata": {},
   "source": [
    "##### Вывод:\n",
    "\n",
    "Точность 0,35 - это лучше, чем ничего, но текст разобрать невозможно"
   ]
  },
  {
   "cell_type": "markdown",
   "metadata": {},
   "source": [
    "### Задание 2\n",
    "\n",
    "Вряд ли в результате получилась такая уж хорошая расшифровка, разве что если вы брали в качестве тестовых данных целые рассказы. Но и Шерлок Холмс был не так уж прост: после буквы E, которая действительно выделяется частотой, дальше он анализировал уже конкретные слова и пытался угадать, какими они могли бы быть. Я не знаю, как запрограммировать такой интуитивный анализ, так что давайте просто сделаем следующий логический шаг:\n",
    "- подсчитайте частоты биграмм (т.е. пар последовательных букв) по корпусам;\n",
    "- проведите тестирование аналогично п.1, но при помощи биграмм."
   ]
  },
  {
   "cell_type": "markdown",
   "metadata": {},
   "source": [
    "##### Решение\n",
    "\n",
    "Аналогично предыдущему пункту, только берем не все биграммы в большом тексте, а только N самых употребимых, где N - количество биграм в тестовом тексте"
   ]
  },
  {
   "cell_type": "code",
   "execution_count": 13,
   "metadata": {},
   "outputs": [],
   "source": [
    "war_and_peace_count_2gramm = calculate_ngramm(war_and_peace, count_char_in_ngramm=2)\n",
    "any_text_count_2gramm = calculate_ngramm(encrypt_any_text, count_char_in_ngramm=2)"
   ]
  },
  {
   "cell_type": "code",
   "execution_count": 14,
   "metadata": {},
   "outputs": [],
   "source": [
    "sorted_2gram_in_war_and_peace = list(war_and_peace_count_2gramm.keys())\n",
    "sorted_2gram_in_any_text = list(any_text_count_2gramm.keys())\n",
    "\n",
    "decrypt_dict_2gram = dict(zip(\n",
    "    sorted_2gram_in_any_text, \n",
    "    sorted_2gram_in_war_and_peace[:len(sorted_2gram_in_any_text)],\n",
    "))"
   ]
  },
  {
   "cell_type": "code",
   "execution_count": 15,
   "metadata": {},
   "outputs": [
    {
     "name": "stdout",
     "output_type": "stream",
     "text": [
      " оолан дрн  оиккеев исзс   таааиотзепуб   вн орм псне  е лйк ериатыто  оиа отьо оатасвтвсмб  ваисдат ивсо  ипгяоньолеатиго ериатгоооол чно   у ас вн он  ы бсдляьаосемн   амрьроскяа   оролоие тгелр м  аеы луа о овиодаплерэгки тс оплеоооде лй  инао   внелуоттекмб тадввн е реидуняко н дррв чпмажоихклеезкин  \n"
     ]
    }
   ],
   "source": [
    "decrypt_any_text_2gram = ''\n",
    "for gram_1, gram_2 in ngrams(encrypt_any_text, 2):\n",
    "    gram = ''.join([gram_1, gram_2])\n",
    "    de_gram = decrypt_dict_2gram[gram]\n",
    "    if decrypt_any_text_2gram == '':\n",
    "        decrypt_any_text_2gram += de_gram\n",
    "    else:\n",
    "        decrypt_any_text_2gram += de_gram[1]\n",
    "\n",
    "print(decrypt_any_text_2gram)"
   ]
  },
  {
   "cell_type": "code",
   "execution_count": 16,
   "metadata": {},
   "outputs": [
    {
     "data": {
      "text/plain": [
       "0.10457516339869281"
      ]
     },
     "execution_count": 16,
     "metadata": {},
     "output_type": "execute_result"
    }
   ],
   "source": [
    "accuracy_decrypt(any_text, decrypt_any_text_2gram)"
   ]
  },
  {
   "cell_type": "markdown",
   "metadata": {},
   "source": [
    "##### Вывод\n",
    "\n",
    "Результат законормено никакой, так как биграмм слишком много и вероятность полного соответсвия частотности биграмм нулевая"
   ]
  },
  {
   "cell_type": "markdown",
   "metadata": {},
   "source": [
    "### Задание 3\n",
    "\n",
    "Но и это ещё не всё: биграммы скорее всего тоже далеко не всегда работают. Основная часть задания — в том, как можно их улучшить:\n",
    "- предложите метод обучения перестановки символов в этом задании, основанный на MCMC-сэмплировании, но по-прежнему работающий на основе статистики биграмм;\n",
    "- реализуйте и протестируйте его, убедитесь, что результаты улучшились."
   ]
  },
  {
   "cell_type": "markdown",
   "metadata": {},
   "source": [
    "##### Решение\n",
    "\n",
    "Марковская цепь - это полседовательность перестановок символов в дешифровальном словаре. По ходу движения по марковской цепи будем либо принимать перестановки, либо отбрасывать. \n",
    "\n",
    "Вероятность выбора данной биграммы пропорционально частоте этой биграммы, что можно смоделировать как подбрасываение многомерной монетки. Таким образом, в качестве правдоподобия можно взять мультиномиальное распределение\n",
    "\n",
    "Общий код аналогичен коду из лекции 10"
   ]
  },
  {
   "cell_type": "code",
   "execution_count": 17,
   "metadata": {},
   "outputs": [],
   "source": [
    "def sample_dict_key(current_dict_key):\n",
    "    keys_values = list(current_dict_key.keys())\n",
    "    i, j = random.sample(list(range(len(keys_values))), 2)\n",
    "    keys_values[i], keys_values[j] = keys_values[j], keys_values[i]\n",
    "    return dict(zip(keys_values, current_dict_key.values()))"
   ]
  },
  {
   "cell_type": "code",
   "execution_count": 18,
   "metadata": {},
   "outputs": [],
   "source": [
    "def metropolis_hastings_log_accept(l, l_new):\n",
    "    if l_new > l:\n",
    "        return True\n",
    "    else:\n",
    "        return (np.random.rand() < np.exp(l_new - l))"
   ]
  },
  {
   "cell_type": "code",
   "execution_count": 19,
   "metadata": {},
   "outputs": [],
   "source": [
    "def multinomial_likelihood_logpdf(\n",
    "    decrypt_dict_key,\n",
    "    text,\n",
    "    ngramm_database=war_and_peace_count_2gramm,\n",
    "    count_char_in_ngramm=2    \n",
    "):  \n",
    "    text = encrypt_text(text, key_dict=decrypt_dict_key)\n",
    "    ngram_in_text = calculate_ngramm(text, count_char_in_ngramm=count_char_in_ngramm)\n",
    "    _likelihood = 0\n",
    "    for k, v in ngram_in_text.items():\n",
    "        if ngramm_database.get(k) is not None:\n",
    "            _likelihood += v * np.log(ngramm_database[k])\n",
    "    return _likelihood"
   ]
  },
  {
   "cell_type": "code",
   "execution_count": 20,
   "metadata": {},
   "outputs": [],
   "source": [
    "def metropolis_hastings(\n",
    "    func_log_likelihood, \n",
    "    iterations, \n",
    "    init_dict_key, \n",
    "    problem_text, \n",
    "    print_text=False\n",
    "):\n",
    "    cur_dict_key = init_dict_key\n",
    "    cur_l = func_log_likelihood(cur_dict_key)\n",
    "    samples, accept_bit = [cur_dict_key], [1]\n",
    "    for i in range(iterations):\n",
    "        new_dict_key = sample_dict_key(cur_dict_key)\n",
    "        new_l = func_log_likelihood(new_dict_key)\n",
    "        samples.append(new_dict_key)\n",
    "\n",
    "        if (metropolis_hastings_log_accept(cur_l, new_l)):\n",
    "            cur_dict_key, cur_l = new_dict_key, new_l\n",
    "            accept_bit.append(1)\n",
    "        else:\n",
    "            accept_bit.append(0)\n",
    "        if print_text:\n",
    "            if i % 1000 == 0:\n",
    "                decrypt_any_text = encrypt_text(problem_text, key_dict=cur_dict_key)\n",
    "                print(decrypt_any_text[:79])\n",
    "    return cur_dict_key"
   ]
  },
  {
   "cell_type": "code",
   "execution_count": 34,
   "metadata": {},
   "outputs": [
    {
     "name": "stdout",
     "output_type": "stream",
     "text": [
      "езефтваанфёрзэифйэёоёфзюфдачёэхфпаяпзяаюфэзфъёъзпзнфафщеёюифщфоёвчмыфдаднафпамф\n",
      "дед стоок абель ялаза ен гоуалх ропрепон ле ваверек о мдань м затуйч гогко рой \n",
      "вев итоод ашень мназа ел госаны ропрепол не какеред о бваль б затсяй гогдо роя \n",
      "вев итоод ажень мназа ел госаны ропрепол не какеред о бваль б затсях гогдо роя \n",
      "вев исоок ажень мназа ел потаны рогрегол не дадерек о бваль б застях попко роя \n",
      "вев исоок ажень мназа ел дотаны рогрегол не паперек о бваль б застяй додко роя \n",
      "вев исаак ожень много ел батоны разрезал не поперек а дволь д гостях бабка рая \n",
      "вев исаак очень много ел батоны разрезал не поперек а дволь д гостях бабка рая \n",
      "дед исаак очень много ел батоны разрезал не поперек а вдоль в гостях бабка рая \n",
      "дед исаак очень много ел батоны разрезал не поперек а вдоль в гостях бабка рая \n",
      "дед исаак очень много ел батоны разрезал не поперек а вдоль в гостях бабка рая \n",
      "дед исаак очень много ел батоны разрезал не поперек а вдоль в гостяю бабка рая \n",
      "дед исаак очень много ел батоны разрезал не поперек а вдоль в гостяй бабка рая \n",
      "дед исаак очень много ел батоны разрезал не поперек а вдоль в гостях бабка рая \n",
      "дед исаак очень много ел батоны разрезал не поперек а вдоль в гостях бабка рая \n",
      "дед исаак очень много ел батоны разрезал не поперек а вдоль в гостях бабка рая \n",
      "дед исаак очень много ел батоны разрезал не поперек а вдоль в гостях бабка рая \n",
      "дед исаак очень много ел батоны разрезал не поперек а вдоль в гостях бабка рая \n",
      "дед исаак очень много ел батоны разрезал не поперек а вдоль в гостях бабка рая \n",
      "дед исаак очень много ел батоны разрезал не поперек а вдоль в гостях бабка рая \n"
     ]
    }
   ],
   "source": [
    "num_samples = 20000\n",
    "decrypt_dict = dict(zip(ABC, ABC))\n",
    "war_and_peace_count_2gramm = calculate_ngramm(war_and_peace, count_char_in_ngramm=2)\n",
    "\n",
    "result_decrypt_dict = metropolis_hastings(\n",
    "    lambda x : multinomial_likelihood_logpdf(\n",
    "        x,\n",
    "        text=encrypt_any_text,\n",
    "        ngramm_database=war_and_peace_count_2gramm,\n",
    "        count_char_in_ngramm=2,\n",
    "    ), \n",
    "    iterations=num_samples, \n",
    "    init_dict_key=decrypt_dict,\n",
    "    problem_text=encrypt_any_text,\n",
    "    print_text=True\n",
    ")"
   ]
  },
  {
   "cell_type": "code",
   "execution_count": 35,
   "metadata": {},
   "outputs": [
    {
     "name": "stdout",
     "output_type": "stream",
     "text": [
      "дед исаак очень много ел батоны разрезал не поперек а вдоль в гостях бабка рая постоянно за него краснела прежде чем идти в гости дед обедал это не помогало куски хлеба он складывал пополам водку пил из бокала для крем соды во время десерта просил не убирать заливное вернувшись домой с облегчением ужинал \n"
     ]
    }
   ],
   "source": [
    "decrypt_any_text = encrypt_text(encrypt_any_text, key_dict=result_decrypt_dict)\n",
    "print(decrypt_any_text)"
   ]
  },
  {
   "cell_type": "code",
   "execution_count": 36,
   "metadata": {},
   "outputs": [
    {
     "data": {
      "text/plain": [
       "1.0"
      ]
     },
     "execution_count": 36,
     "metadata": {},
     "output_type": "execute_result"
    }
   ],
   "source": [
    "accuracy_decrypt(any_text, decrypt_any_text)"
   ]
  },
  {
   "cell_type": "markdown",
   "metadata": {},
   "source": [
    "##### Вывод\n",
    "\n",
    "100% точность, но с 10 попытки:)"
   ]
  },
  {
   "cell_type": "markdown",
   "metadata": {},
   "source": [
    "### Задание 4\n",
    "\n",
    "Расшифруйте сообщение:"
   ]
  },
  {
   "cell_type": "markdown",
   "metadata": {},
   "source": [
    "##### Решение\n",
    "\n",
    "Алгоритм аналогичен п.3. Поскольку количество уникальных символов в тестовом тексте меньше, чем в рабочем алфавите, то добавим \"заглушки\" - специальные символы, которые уровняют количество уникальных букв"
   ]
  },
  {
   "cell_type": "code",
   "execution_count": 39,
   "metadata": {},
   "outputs": [
    {
     "name": "stdout",
     "output_type": "stream",
     "text": [
      "←⇠⇒↟↹↷⇊↹↷↟↤↟↨←↹↝⇛⇯↳⇴⇒⇈↝⇊↾↹↟⇒↟↹⇷⇛⇞↨↟↹↝⇛⇯↳⇴⇒⇈↝⇊↾↹↨←⇌⇠↨↹⇙↹⇸↨⇛↙⇛↹⇠⇛⇛↲⇆←↝↟↞↹⇌⇛↨⇛⇯⇊↾↹⇒←↙⇌⇛↹⇷⇯⇛⇞↟↨⇴↨⇈↹⇠⇌⇛⇯←←↹↷⇠←↙⇛↹↷⇊↹↷⇠←↹⇠↤←⇒⇴⇒↟↹⇷⇯⇴↷↟⇒⇈↝⇛↹↟↹⇷⇛⇒⇙⇞↟↨←↹↳⇴⇌⇠↟↳⇴⇒⇈↝⇊↾↹↲⇴⇒⇒↹⇰⇴↹⇷⇛⇠⇒←↤↝←←↹⇞←↨↷←⇯↨⇛←↹⇰⇴↤⇴↝↟←↹⇌⇙⇯⇠⇴↹↘⇛↨↞↹⇌⇛↝←⇞↝⇛↹↞↹↝↟⇞←↙⇛↹↝←↹⇛↲←⇆⇴⇏\n"
     ]
    }
   ],
   "source": [
    "TASK_TEXT_PATH = './texts/task_text.txt'\n",
    "\n",
    "task_text = ''\n",
    "with open(TASK_TEXT_PATH, 'r') as fin:\n",
    "    for line in fin.readline():\n",
    "        task_text += line.strip()\n",
    "    \n",
    "print(task_text)"
   ]
  },
  {
   "cell_type": "code",
   "execution_count": 41,
   "metadata": {},
   "outputs": [],
   "source": [
    "array_task_char = list((set(task_text)))\n",
    "array_task_char += ['mock_1', 'mock_2', 'mock_3', 'mock_4', 'mock_5', 'mock_6']\n",
    "popular_char = sorted_1gram_in_war_and_peace\n",
    "decrypt_dict_for_task = dict(zip(array_task_char, popular_char))"
   ]
  },
  {
   "cell_type": "code",
   "execution_count": 48,
   "metadata": {},
   "outputs": [
    {
     "name": "stdout",
     "output_type": "stream",
     "text": [
      "ожриеыкеыизисоеяаню рчяклеириеьавсиеяаню рчяклесопжседеусайаежаагбояихепасанкле\n",
      "енси ды дишиле варбоствых иси памли варбоствых лекнл у юлага наажцевия каларых \n",
      "евси ды димиле наргосьных иси пажли наргосьных леквл у элаза ваачтения каларых \n",
      "евси ды димиле норзасьный иси погли норзасьный летвл у блоко воочшения толорый \n",
      "евти сы симиле норжатьный ити подли норжатьный леквл у блого воочшения колорый \n",
      "если вы вимите норзальный или подти норзальный текст у чтого сообшения который \n",
      "если вы вимите норжальный или подти норжальный текст у чтого сообщения который \n",
      "если вы вимите норжальный или подти норжальный текст у этого сообчения который \n",
      "если вы вичите нормальный или подти нормальный текст у этого сообщения который \n",
      "если вы вимите нордальный или почти нордальный текст у этого сообщения который \n"
     ]
    }
   ],
   "source": [
    "num_samples = 10000\n",
    "result_decrypt_dict = metropolis_hastings(\n",
    "    lambda x : multinomial_likelihood_logpdf(\n",
    "        x,\n",
    "        text=task_text,\n",
    "        ngramm_database=war_and_peace_count_2gramm,\n",
    "        count_char_in_ngramm=2,\n",
    "    ), \n",
    "    iterations=num_samples, \n",
    "    init_dict_key=decrypt_dict_for_task,\n",
    "    problem_text=task_text,\n",
    "    print_text=True\n",
    ")"
   ]
  },
  {
   "cell_type": "code",
   "execution_count": 49,
   "metadata": {},
   "outputs": [
    {
     "name": "stdout",
     "output_type": "stream",
     "text": [
      "если вы вимите нордальный или почти нордальный текст у этого сообжения который \n",
      "если вы вимите норкальный или почти норкальный тедст у этого соожбения доторый \n",
      "если вы вимите норкальный или почти норкальный тедст у этого сообшения доторый \n",
      "если вы вимите нордальный или почти нордальный текст у этого сообщения который \n",
      "если вы вимите норкальный или почти норкальный тедст у этого сообжения доторый \n",
      "если вы вимите норжальный или подти норжальный текст у этого сообчения который \n",
      "если вы вимите норжальный или подти норжальный текст у этого сообцения который \n",
      "если вы вимите норшальный или почти норшальный текст у этого соождения который \n",
      "если вы вимите норшальный или подти норшальный текст у этого соожчения который \n",
      "если вы вимите норзальный или подти норзальный текст у этого соожчения который \n",
      "если вы вимите норхальный или подти норхальный текст у этого соожчения который \n",
      "если вы вимите норзальный или подти норзальный текст у этого соожбения который \n",
      "если вы вимите норзальный или подти норзальный текст у этого соожбения который \n",
      "если вы вимите норзальный или подти норзальный текст у этого сообщения который \n",
      "если вы вимите норзальный или подти норзальный текст у этого сообщения который \n",
      "если вы вимите норзальный или подти норзальный текст у этого соошжения который \n",
      "если вы вимите норзальный или подти норзальный текст у этого соожбения который \n",
      "если вы вимите норзальный или подти норзальный текст у чтого сообщения который \n",
      "если вы вимите норзальный или подти норзальный текст у этого соожчения который \n",
      "если вы вимите нордальный или почти нордальный текст у этого сообжения который \n",
      "если вы вимите норжальный или подти норжальный текст у этого сообчения который \n",
      "если вы вимите норзальный или подти норзальный текст у этого соожбения который \n",
      "если вы вимите норзальный или подти норзальный текст у этого сообщения который \n",
      "если вы вимите норзальный или подти норзальный текст у этого сообжения который \n",
      "если вы вимите норзальный или подти норзальный текст у этого соожчения который \n",
      "если вы вимите норзальный или подти норзальный текст у этого соожчения который \n",
      "если вы вимите норкальный или почти норкальный тедст у этого соожбения доторый \n",
      "если вы вимите норзальный или подти норзальный текст у этого сообчения который \n",
      "если вы вимите норзальный или подти норзальный текст у этого сообжения который \n",
      "если вы вимите нордальный или почти нордальный текст у этого сообщения который \n",
      "если вы вимите норкальный или почти норкальный тедст у этого сообшения доторый \n",
      "если вы вимите норшальный или подти норшальный текст у этого сообчения который \n",
      "если вы вимите норбальный или подти норбальный текст у этого соочшения который \n",
      "если вы вимите норжальный или подти норжальный текст у этого соочшения который \n",
      "если вы вимите норжальный или подти норжальный текст у этого соочшения который \n",
      "если вы вимите норзальный или подти норзальный текст у этого соочшения который \n",
      "если вы вимите норчальный или подти норчальный текст у этого сообжения который \n",
      "если вы вимите норчальный или подти норчальный текст у этого сообжения который \n",
      "если вы вимите норжальный или подти норжальный текст у этого сообщения который \n",
      "если вы вимите норзальный или подти норзальный текст у этого сообжения который \n",
      "если вы вимите норзальный или подти норзальный текст у штого сообщения который \n",
      "если вы вимите норзальный или подти норзальный текст у этого сообжения который \n",
      "если вы вимите нордальный или почти нордальный текст у этого соожбения который \n",
      "если вы вимите норшальный или подти норшальный текст у этого соожчения который \n",
      "если вы вимите норшальный или подти норшальный текст у этого соожчения который \n",
      "если вы вимите норбальный или подти норбальный текст у этого соожчения который \n",
      "если вы вимите норзальный или подти норзальный текст у этого сообщения который \n",
      "если вы вимите норзальный или подти норзальный текст у этого сообщения который \n",
      "если вы вимите норжальный или подти норжальный текст у чтого сообщения который \n",
      "если вы вимите норжальный или подти норжальный текст у чтого сообщения который \n",
      "если вы вимите норшальный или подти норшальный текст у этого сообщения который \n",
      "если вы вимите норчальный или подти норчальный текст у этого сообщения который \n",
      "если вы вимите норчальный или подти норчальный текст у этого соожбения который \n",
      "если вы вимите норжальный или подти норжальный текст у этого сообчения который \n",
      "если вы вимите норжальный или подти норжальный текст у этого сообчения который \n",
      "если вы вимите норжальный или подти норжальный текст у этого сообшения который \n",
      "если вы вимите норзальный или подти норзальный текст у этого соочшения который \n",
      "если вы вимите норбальный или подти норбальный текст у этого соочшения который \n",
      "если вы вимите норзальный или подти норзальный текст у этого соочшения который \n",
      "если вы вимите норзальный или подти норзальный текст у этого соочшения который \n",
      "если вы вимите норзальный или подти норзальный текст у этого соочшения который \n",
      "если вы вимите норзальный или подти норзальный текст у этого сообщения который \n",
      "если вы видите норчальный или помти норчальный текст у этого сообщения который \n",
      "если вы видите норзальный или помти норзальный текст у этого сообщения который \n",
      "если вы вимите норжальный или подти норжальный текст у этого сообцения который \n",
      "если вы вимите норзальный или подти норзальный текст у этого сообщения который \n",
      "если вы вимите норзальный или подти норзальный текст у этого сообжения который \n",
      "если вы вимите нордальный или почти нордальный текст у этого сообщения который \n",
      "если вы вимите норбальный или подти норбальный текст у этого соочшения который \n",
      "если вы вимите норзальный или подти норзальный текст у этого соочщения который \n",
      "если вы вимите норзальный или подти норзальный текст у этого сообжения который \n",
      "если вы вимите норчальный или подти норчальный текст у этого сообжения который \n",
      "если вы вимите норчальный или подти норчальный текст у этого сообщения который \n",
      "если вы вимите норчальный или подти норчальный текст у этого сообщения который \n",
      "если вы вимите нордальный или почти нордальный текст у этого сообжения который \n",
      "если вы вимите норчальный или подти норчальный текст у этого соожбения который \n",
      "если вы вимите норшальный или подти норшальный текст у этого сообщения который \n",
      "если вы вимите норзальный или подти норзальный текст у чтого сообщения который \n",
      "если вы вимите норжальный или подти норжальный текст у этого соочшения который \n",
      "если вы вимите норжальный или подти норжальный текст у этого соочшения который \n",
      "если вы вимите норжальный или подти норжальный текст у этого сообшения который \n",
      "если вы вимите норзальный или подти норзальный текст у чтого сообщения который \n",
      "если вы вимите норзальный или подти норзальный текст у этого сообшения который \n",
      "если вы вимите норзальный или подти норзальный текст у этого соочшения который \n",
      "если вы видите норжальный или помти норжальный текст у этого соочшения который \n",
      "если вы вимите норчальный или подти норчальный текст у этого соожцения который \n",
      "если вы вимите норзальный или подти норзальный текст у этого соошчения который \n",
      "если вы вимите норжальный или подти норжальный текст у этого сообщения который \n",
      "если вы вимите норжальный или подти норжальный текст у этого сообщения который \n",
      "если вы вимите норжальный или подти норжальный текст у этого сообщения который \n",
      "если вы вимите норжальный или подти норжальный текст у этого сообчения который \n",
      "если вы вимите норжальный или подти норжальный текст у этого сообчения который \n",
      "если вы вимите норчальный или подти норчальный текст у этого сообщения который \n",
      "если вы вимите норжальный или подти норжальный текст у этого соочшения который \n",
      "если вы вимите норзальный или подти норзальный текст у этого соочшения который \n",
      "если вы вимите норзальный или подти норзальный текст у этого соочшения который \n",
      "если вы вимите норзальный или подти норзальный текст у этого соочшения который \n",
      "если вы вимите норзальный или подти норзальный текст у этого соожчения который \n",
      "если вы вимите норчальный или подти норчальный текст у этого соожбения который \n",
      "если вы вимите норкальный или почти норкальный тедст у этого сообщения доторый \n"
     ]
    }
   ],
   "source": [
    "num_samples = 100000\n",
    "result_decrypt_dict = metropolis_hastings(\n",
    "    lambda x : multinomial_likelihood_logpdf(\n",
    "        x,\n",
    "        text=task_text,\n",
    "        ngramm_database=war_and_peace_count_2gramm,\n",
    "        count_char_in_ngramm=2,\n",
    "    ), \n",
    "    iterations=num_samples, \n",
    "    init_dict_key=result_decrypt_dict,\n",
    "    problem_text=task_text,\n",
    "    print_text=True\n",
    ")"
   ]
  },
  {
   "cell_type": "code",
   "execution_count": 50,
   "metadata": {},
   "outputs": [
    {
     "name": "stdout",
     "output_type": "stream",
     "text": [
      "если вы вимите нордальный или почти нордальный текст у этого сообщения который легко прочитать скорее всего вы все смелали правильно и получите даксидальный балл за послемнее четвертое замание курса хотя конечно я ничего не обещаш\n"
     ]
    }
   ],
   "source": [
    "decrypt_any_text = encrypt_text(task_text, key_dict=result_decrypt_dict)\n",
    "print(decrypt_any_text)"
   ]
  },
  {
   "cell_type": "markdown",
   "metadata": {},
   "source": [
    "##### Вывод\n",
    "\n",
    "Вот прям совсем не сразу, попытки с 15, но текст читается"
   ]
  },
  {
   "cell_type": "markdown",
   "metadata": {},
   "source": [
    "### Залание 5 (бонус): \n",
    "\n",
    "А что если от биграмм перейти к триграммам (тройкам букв) или даже больше? Улучшатся ли результаты? Когда улучшатся, а когда нет? Чтобы ответить на этот вопрос эмпирически, уже может понадобиться погенерировать много тестовых перестановок и последить за метриками, глазами может быть и не видно."
   ]
  },
  {
   "cell_type": "markdown",
   "metadata": {},
   "source": [
    "##### Решение\n",
    "\n",
    "Рассмотрим тексты различной длины из романа Анна Каренина и оценим точность расшифровки на биграммах и триграммах. Для набора статистики повторим данный процес для каждого теста 100 раз"
   ]
  },
  {
   "cell_type": "code",
   "execution_count": 52,
   "metadata": {},
   "outputs": [],
   "source": [
    "war_and_peace_count_3gramm = calculate_ngramm(war_and_peace, count_char_in_ngramm=3)"
   ]
  },
  {
   "cell_type": "code",
   "execution_count": 57,
   "metadata": {},
   "outputs": [
    {
     "name": "stdout",
     "output_type": "stream",
     "text": [
      "ожриеыкеыизисоеяаню рчяклеириеьавсиеяаню рчяклесопжседеусайаежаагбояихепасанкле\n",
      "икра сы сазали новтержным ара дошла новтержным липкл у глохо коофциная половым \n",
      "икла сы сазари новшельных ала домра новшельных риткр у прого коожчиная торовых \n",
      "есла вы вазате норжильный ала дошта норжильный текст у хтого соочбеная который \n",
      "если вы видите норжальный или почти норжальный текст у этого сообшения который \n",
      "если вы видите норжальный или почти норжальный текст у этого сообщения который \n",
      "если вы видите нормальный или почти нормальный текст у этого сообщения который \n",
      "если вы видите нормальный или почти нормальный текст у этого сообщения который \n",
      "если вы видите нормальный или почти нормальный текст у этого сообщения который \n",
      "если вы видите нормальный или почти нормальный текст у этого сообщения который \n"
     ]
    }
   ],
   "source": [
    "num_samples = 10000\n",
    "result_decrypt_dict = metropolis_hastings(\n",
    "    lambda x : multinomial_likelihood_logpdf(\n",
    "        x,\n",
    "        text=task_text,\n",
    "        ngramm_database=war_and_peace_count_3gramm,\n",
    "        count_char_in_ngramm=3,\n",
    "    ), \n",
    "    iterations=num_samples, \n",
    "    init_dict_key=decrypt_dict_for_task,\n",
    "    problem_text=task_text,\n",
    "    print_text=True\n",
    ")"
   ]
  },
  {
   "cell_type": "code",
   "execution_count": 32,
   "metadata": {},
   "outputs": [
    {
     "data": {
      "application/vnd.jupyter.widget-view+json": {
       "model_id": "fe0b0b56dc5946d4b2bc86581687f3ee",
       "version_major": 2,
       "version_minor": 0
      },
      "text/plain": [
       "HBox(children=(HTML(value=''), FloatProgress(value=0.0), HTML(value='')))"
      ]
     },
     "metadata": {},
     "output_type": "display_data"
    },
    {
     "name": "stdout",
     "output_type": "stream",
     "text": [
      "\n"
     ]
    }
   ],
   "source": [
    "array_length_text = [20, 50, 100, 200, 500, 1000]\n",
    "num_samples = 10000\n",
    "\n",
    "accuracy_2_gram = []\n",
    "accuracy_3_gram = []\n",
    "\n",
    "COUNT_SAMPLE = 100\n",
    "for _ in tqdm(range(COUNT_SAMPLE)):\n",
    "    for _length in array_length_text:\n",
    "\n",
    "        input_text = anna_karenina[4:_length]\n",
    "        encrypt_input_text = encrypt_text(input_text, key_dict=encrypt_dict)\n",
    "\n",
    "        decrypt_dict = dict(zip(ABC, ABC))\n",
    "        result_decrypt_dict = metropolis_hastings(\n",
    "            lambda x : multinomial_likelihood_logpdf(\n",
    "                x,\n",
    "                text=encrypt_input_text,\n",
    "                ngramm_database=war_and_peace_count_2gramm,\n",
    "                count_char_in_ngramm=2,\n",
    "            ), \n",
    "            iterations=num_samples, \n",
    "            init_dict_key=decrypt_dict,\n",
    "            problem_text=encrypt_input_text,\n",
    "        )\n",
    "        decrypt_input_text = encrypt_text(encrypt_input_text, key_dict=result_decrypt_dict)\n",
    "        accuracy_2_gram.append(accuracy_decrypt(input_text, decrypt_input_text))\n",
    "\n",
    "        # 3-gram\n",
    "        decrypt_dict = dict(zip(ABC, ABC))\n",
    "        result_decrypt_dict = metropolis_hastings(\n",
    "            lambda x : multinomial_likelihood_logpdf(\n",
    "                x,\n",
    "                text=encrypt_input_text,\n",
    "                ngramm_database=war_and_peace_count_3gramm,\n",
    "                count_char_in_ngramm=3\n",
    "            ), \n",
    "            iterations=num_samples, \n",
    "            init_dict_key=decrypt_dict,\n",
    "            problem_text=encrypt_input_text,\n",
    "#             print_text=True\n",
    "        )\n",
    "        decrypt_input_text = encrypt_text(encrypt_input_text, key_dict=result_decrypt_dict)\n",
    "        accuracy_3_gram.append(accuracy_decrypt(input_text, decrypt_input_text))"
   ]
  },
  {
   "cell_type": "code",
   "execution_count": 33,
   "metadata": {},
   "outputs": [],
   "source": [
    "analyze_dict = {\n",
    "    'count_char': array_length_text * COUNT_SAMPLE * 2,\n",
    "    'accuracy': accuracy_2_gram + accuracy_3_gram,\n",
    "    'count_gram': ['2_gram'] * len(accuracy_2_gram) + ['3_gram'] * len(accuracy_3_gram)\n",
    "}\n",
    "\n",
    "analyze_df = pd.DataFrame(analyze_dict)\n",
    "analyze_df.to_csv('analyze_metropolis_hastings.csv', index=False)"
   ]
  },
  {
   "cell_type": "code",
   "execution_count": 59,
   "metadata": {},
   "outputs": [
    {
     "data": {
      "image/png": "[encoded data removed]",
      "text/plain": [
       "<Figure size 864x360 with 1 Axes>"
      ]
     },
     "metadata": {
      "needs_background": "light"
     },
     "output_type": "display_data"
    }
   ],
   "source": [
    "analyze_df = pd.read_csv('analyze_metropolis_hastings.csv')\n",
    "\n",
    "plt.figure(figsize=(12, 5))\n",
    "ax = sns.boxplot(x=\"count_char\", y=\"accuracy\", hue=\"count_gram\",\n",
    "                 data=analyze_df)\n",
    "plt.grid()"
   ]
  },
  {
   "cell_type": "markdown",
   "metadata": {},
   "source": [
    "##### Вывод\n",
    "\n",
    "- триграммы делают точность более стабильной, которая растет с увеличением количесвтва символов в тесте. \n",
    "- точность по триграммам стабильно выше, чем по биграмма"
   ]
  },
  {
   "cell_type": "markdown",
   "metadata": {},
   "source": [
    "### Задание 6 (бонус) \n",
    "\n",
    "Какие вы можете придумать применения для этой модели? Пляшущие человечки ведь не так часто встречаются в жизни (хотя встречаются! и это самое потрясающее во всей этой истории, но об этом я расскажу потом)."
   ]
  },
  {
   "cell_type": "markdown",
   "metadata": {},
   "source": [
    "##### Ответ\n",
    "\n",
    "Распределение букв в больших текстах подчиняется степенному закону. Можно распространить идею МСМС-семлирования на распределения, которые подчиняются степенному закону, т.е. те распределения, для которых уже наблюдается некая упрощенная зависимость и можно сделать эту зависимость более \"глубокой\".\n",
    "\n",
    "Например:\n",
    "\n",
    "Взято из Википедии: \"Аллометрические закономерности для отношений между биологическими переменными являются одними из самых известных примеров степенных законов в природе.\" (Аллометрия - неравномерный рост частей тела)\n",
    "\n",
    "Т.е. зная изменение размеров частей тела у животного можно корректно описать этапы эволюции этого животного"
   ]
  },
  {
   "cell_type": "code",
   "execution_count": null,
   "metadata": {},
   "outputs": [],
   "source": []
  },
  {
   "cell_type": "code",
   "execution_count": null,
   "metadata": {},
   "outputs": [],
   "source": []
  },
  {
   "cell_type": "code",
   "execution_count": null,
   "metadata": {},
   "outputs": [],
   "source": []
  }
 ],
 "metadata": {
  "kernelspec": {
   "display_name": "Python 3",
   "language": "python",
   "name": "python3"
  },
  "language_info": {
   "codemirror_mode": {
    "name": "ipython",
    "version": 3
   },
   "file_extension": ".py",
   "mimetype": "text/x-python",
   "name": "python",
   "nbconvert_exporter": "python",
   "pygments_lexer": "ipython3",
   "version": "3.7.6"
  }
 },
 "nbformat": 4,
 "nbformat_minor": 4
}
